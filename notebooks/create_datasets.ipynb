{
 "cells": [
  {
   "cell_type": "code",
   "execution_count": 1,
   "metadata": {
    "ExecuteTime": {
     "end_time": "2020-06-12T11:28:04.025184Z",
     "start_time": "2020-06-12T11:28:02.995711Z"
    }
   },
   "outputs": [],
   "source": [
    "import pandas as pd\n",
    "import numpy as np\n",
    "import tensorflow as tf\n",
    "from collections import OrderedDict\n",
    "import os\n",
    "from gensim.models import Word2Vec"
   ]
  },
  {
   "cell_type": "code",
   "execution_count": 2,
   "metadata": {
    "ExecuteTime": {
     "end_time": "2020-06-12T11:28:19.802629Z",
     "start_time": "2020-06-12T11:28:19.029417Z"
    }
   },
   "outputs": [],
   "source": [
    "df_train_data = pd.read_csv(\n",
    "    './datasets/trainingset.csv'\n",
    ")\n",
    "df_val_data = pd.read_csv(\n",
    "    './datasets/validationset.csv'\n",
    ")\n",
    "df_test_data = pd.read_csv(\n",
    "    './datasets/testa.csv'\n",
    ")"
   ]
  },
  {
   "cell_type": "code",
   "execution_count": 3,
   "metadata": {
    "ExecuteTime": {
     "end_time": "2020-06-12T11:28:21.092319Z",
     "start_time": "2020-06-12T11:28:21.086296Z"
    }
   },
   "outputs": [],
   "source": [
    "# 定义 aspect 关键词\n",
    "# 这些关键词由20个二分类的 LightGBM 根据特征重要性得到\n",
    "subjects = [\n",
    "    '地铁站 地铁 地理位置 位置 公交车 公交车站 公交站',\n",
    "    '百货 商圈 商场 广场 购物中心 城 商业街',\n",
    "    '容易 位置 醒目 找到 找 地理位置 显眼',\n",
    "    '小时 排队 等 排 排号 队 号',\n",
    "    '态度 服务员 热情 服务态度 老板 服务 服务生',\n",
    "    '开车 停车费 停车位 停 停车场 车位 泊车',\n",
    "    '很快 催 慢 速度 分钟 上菜 等',\n",
    "    '小贵 不贵 价位 原价 块钱 价格 性价比',\n",
    "    '不划算 物有所值 不值 物美价廉 超值 性价比 实惠',\n",
    "    '活动 团 霸王餐 代金券 团购 优惠 券',\n",
    "    '装修 布置 灯光 古色古香 装饰 优雅 情调',\n",
    "    '安静 环境 装修 氛围 嘈杂 吵闹 音乐',\n",
    "    '大 宽敞 空间 面积 装修 拥挤 店面',\n",
    "    '整洁 干净 环境 卫生 苍蝇 不错 脏',\n",
    "    '吃不完 一份 量 量足 个头 好大 少',\n",
    "    '入味 吃 不错 味道 好吃 口味 好喝',\n",
    "    '造型 颜色 精致 卖相 好看 色香味 食欲',\n",
    "    '推荐 强烈推荐 值得 强推 一试 极力推荐 菜品',\n",
    "    '好 满意 纪念品 内地 之 肠 灌',\n",
    "    '还会 机会 再 不会 来 值得 推荐',\n",
    "]"
   ]
  },
  {
   "cell_type": "code",
   "execution_count": 4,
   "metadata": {
    "ExecuteTime": {
     "end_time": "2020-06-12T11:28:21.800361Z",
     "start_time": "2020-06-12T11:28:21.794712Z"
    }
   },
   "outputs": [],
   "source": [
    "subjects_eng = [\n",
    "    'location_traffic_convenience',\n",
    "    'location_distance_from_business_district',\n",
    "    'location_easy_to_find',\n",
    "    'service_wait_time',\n",
    "    'service_waiters_attitude',\n",
    "    'service_parking_convenience',\n",
    "    'service_serving_speed',\n",
    "    'price_level',\n",
    "    'price_cost_effective',\n",
    "    'price_discount',\n",
    "    'environment_decoration',\n",
    "    'environment_noise',\n",
    "    'environment_space',\n",
    "    'environment_cleaness',\n",
    "    'dish_portion',\n",
    "    'dish_taste',\n",
    "    'dish_look',\n",
    "    'dish_recommendation',\n",
    "    'others_overall_experience',\n",
    "    'others_willing_to_consume_again',\n",
    "]"
   ]
  },
  {
   "cell_type": "code",
   "execution_count": 5,
   "metadata": {
    "ExecuteTime": {
     "end_time": "2020-06-12T11:28:30.097581Z",
     "start_time": "2020-06-12T11:28:30.092863Z"
    }
   },
   "outputs": [],
   "source": [
    "subjects_dict = OrderedDict(zip(subjects_eng, subjects))\n",
    "max_aspect_len = len(subjects[0].split(' '))"
   ]
  },
  {
   "cell_type": "code",
   "execution_count": null,
   "metadata": {},
   "outputs": [],
   "source": []
  },
  {
   "cell_type": "code",
   "execution_count": 6,
   "metadata": {
    "ExecuteTime": {
     "end_time": "2020-06-12T11:29:03.020496Z",
     "start_time": "2020-06-12T11:29:02.679198Z"
    }
   },
   "outputs": [],
   "source": [
    "w2v_path = './saved/word2vec.model'\n",
    "w2v = Word2Vec.load(w2v_path)"
   ]
  },
  {
   "cell_type": "code",
   "execution_count": 8,
   "metadata": {
    "ExecuteTime": {
     "end_time": "2020-06-12T11:32:15.089337Z",
     "start_time": "2020-06-12T11:31:37.589852Z"
    }
   },
   "outputs": [
    {
     "name": "stdout",
     "output_type": "stream",
     "text": [
      "./datasets/vocab.txt\n"
     ]
    },
    {
     "name": "stderr",
     "output_type": "stream",
     "text": [
      "/home/yangbin7/anaconda3/lib/python3.7/site-packages/ipykernel_launcher.py:20: DeprecationWarning: Call to deprecated `__contains__` (Method will be removed in 4.0.0, use self.wv.__contains__() instead).\n",
      "/home/yangbin7/anaconda3/lib/python3.7/site-packages/ipykernel_launcher.py:32: DeprecationWarning: Call to deprecated `__contains__` (Method will be removed in 4.0.0, use self.wv.__contains__() instead).\n"
     ]
    }
   ],
   "source": [
    "def get_word2id(data_path,\n",
    "                all_subjects,\n",
    "                train_fname,\n",
    "                val_fname,\n",
    "                test_fname,\n",
    "                w2v,\n",
    "                pre_processed,\n",
    "                save_fname,\n",
    "                suffix='_words_list.txt'):\n",
    "    '''构造 word id 映射'''\n",
    "    save_fname = data_path + save_fname + '.txt'\n",
    "    print(save_fname)\n",
    "    word2id = {}\n",
    "    max_len, max_aspect_len = 0, 0\n",
    "    \n",
    "    word2id['<pad>'] = 0\n",
    "    for s in all_subjects:\n",
    "        crt_len = 0\n",
    "        for word in s.split(' '):\n",
    "            if word in w2v:\n",
    "                crt_len += 1\n",
    "                if word not in word2id:\n",
    "                    word2id[word] = len(word2id)\n",
    "        max_aspect_len = max(crt_len, max_aspect_len)\n",
    "\n",
    "    for file_path in [train_fname, val_fname, test_fname]:\n",
    "        file_path = data_path + file_path + suffix\n",
    "        with open(file_path) as f_r:\n",
    "            for line in f_r:\n",
    "                crt_len = 0\n",
    "                for word in line.strip().split(' '):\n",
    "                    if word in w2v:\n",
    "                        crt_len += 1\n",
    "                        if word not in word2id:\n",
    "                            word2id[word] = len(word2id)\n",
    "                max_len = max(crt_len, max_len)\n",
    "\n",
    "    with open(save_fname, 'w') as fsave:\n",
    "        fsave.write('%d %d\\n' % (max_len, max_aspect_len))\n",
    "        for item in sorted(word2id.items(), key=lambda x: x[1]):\n",
    "            fsave.write(item[0] + ' ' + str(item[1]) + '\\n')\n",
    "\n",
    "    return word2id, max_len, max_aspect_len\n",
    "\n",
    "\n",
    "word2id, max_context_len, max_aspect_len = get_word2id(\n",
    "    './datasets/',\n",
    "    subjects,\n",
    "    'trainingset',\n",
    "    'validationset',\n",
    "    'testa',\n",
    "    w2v,\n",
    "    pre_processed=False,\n",
    "    save_fname='vocab',\n",
    "    suffix='_words_list.txt',\n",
    ")"
   ]
  },
  {
   "cell_type": "code",
   "execution_count": 9,
   "metadata": {
    "ExecuteTime": {
     "end_time": "2020-06-12T11:32:29.424837Z",
     "start_time": "2020-06-12T11:32:29.417001Z"
    }
   },
   "outputs": [
    {
     "data": {
      "text/plain": [
       "1113"
      ]
     },
     "execution_count": 9,
     "metadata": {},
     "output_type": "execute_result"
    }
   ],
   "source": [
    "max_context_len"
   ]
  },
  {
   "cell_type": "code",
   "execution_count": 10,
   "metadata": {
    "ExecuteTime": {
     "end_time": "2020-06-12T11:32:30.854109Z",
     "start_time": "2020-06-12T11:32:30.848833Z"
    }
   },
   "outputs": [
    {
     "data": {
      "text/plain": [
       "7"
      ]
     },
     "execution_count": 10,
     "metadata": {},
     "output_type": "execute_result"
    }
   ],
   "source": [
    "max_aspect_len"
   ]
  },
  {
   "cell_type": "code",
   "execution_count": null,
   "metadata": {},
   "outputs": [],
   "source": []
  },
  {
   "cell_type": "code",
   "execution_count": 11,
   "metadata": {
    "ExecuteTime": {
     "end_time": "2020-06-12T11:39:39.560228Z",
     "start_time": "2020-06-12T11:39:27.220879Z"
    }
   },
   "outputs": [
    {
     "name": "stdout",
     "output_type": "stream",
     "text": [
      "对评论编码\n",
      "(105000, 1113) (15000, 1113) (15000, 1113)\n"
     ]
    }
   ],
   "source": [
    "def build_nn_context(data_path,\n",
    "                     file_name,\n",
    "                     word2id,\n",
    "                     pre_processed,\n",
    "                     context_max_len,\n",
    "                     suffix='_words_list.txt'):\n",
    "    if pre_processed:\n",
    "        pass\n",
    "    else:\n",
    "        contexts, context_lens = [], []\n",
    "        file_path = data_path + file_name + suffix\n",
    "        with open(file_path) as f_r:\n",
    "            for line in f_r:\n",
    "                words = [\n",
    "                    word2id[w] for w in filter(lambda x: x in word2id,\n",
    "                                               line.strip().split(' '))\n",
    "                ]\n",
    "                if len(words) < context_max_len:\n",
    "                    crt_content_lens = len(words)\n",
    "                    words = words + [0] * (context_max_len - len(words))\n",
    "                else:\n",
    "                    crt_content_lens = context_max_len\n",
    "                    words = words[:context_max_len]\n",
    "                contexts.append(words)\n",
    "                context_lens.append(crt_content_lens)\n",
    "        return np.asarray(contexts), np.asarray(context_lens)\n",
    "\n",
    "\n",
    "print('对评论编码')\n",
    "train_context, train_context_lens = build_nn_context(\n",
    "    './datasets/',\n",
    "    'trainingset',\n",
    "    word2id,\n",
    "    pre_processed=False,\n",
    "    context_max_len=max_context_len,\n",
    "    suffix='_words_list.txt')\n",
    "val_context, val_context_lens = build_nn_context(\n",
    "    './datasets/',\n",
    "    'validationset',\n",
    "    word2id,\n",
    "    pre_processed=False,\n",
    "    context_max_len=max_context_len,\n",
    "    suffix='_words_list.txt')\n",
    "test_context, test_context_lens = build_nn_context(\n",
    "    './datasets/',\n",
    "    'testa',\n",
    "    word2id,\n",
    "    pre_processed=False,\n",
    "    context_max_len=max_context_len,\n",
    "    suffix='_words_list.txt')\n",
    "print(train_context.shape, val_context.shape, test_context.shape)"
   ]
  },
  {
   "cell_type": "code",
   "execution_count": 32,
   "metadata": {
    "ExecuteTime": {
     "end_time": "2020-06-12T12:44:26.504462Z",
     "start_time": "2020-06-12T12:44:26.107938Z"
    }
   },
   "outputs": [],
   "source": [
    "# # 将处理好的数据保存\n",
    "# with open('./datasets/datasets.npy','wb') as f:\n",
    "#     np.save(f, train_context)\n",
    "#     np.save(f, val_context)\n",
    "#     np.save(f, test_context)"
   ]
  },
  {
   "cell_type": "code",
   "execution_count": null,
   "metadata": {},
   "outputs": [],
   "source": []
  },
  {
   "cell_type": "code",
   "execution_count": 14,
   "metadata": {
    "ExecuteTime": {
     "end_time": "2020-06-12T11:42:54.426765Z",
     "start_time": "2020-06-12T11:42:54.401087Z"
    }
   },
   "outputs": [
    {
     "name": "stdout",
     "output_type": "stream",
     "text": [
      "计算不同类别、标签的权重\n",
      "[[0.14484863 0.31622786 0.38871107 0.15021244]\n",
      " [0.13910733 0.34324093 0.37573207 0.14191966]\n",
      " [0.15255294 0.27549624 0.40215741 0.16979341]\n",
      " [0.13548401 0.35643312 0.26204717 0.2460357 ]\n",
      " [0.17096094 0.37867264 0.27852493 0.17184149]\n",
      " [0.13316494 0.35713949 0.32596183 0.18373374]\n",
      " [0.1553022  0.23325269 0.41098311 0.200462  ]\n",
      " [0.16073924 0.34567436 0.2118392  0.28174719]\n",
      " [0.13667641 0.35784223 0.35080672 0.15467464]\n",
      " [0.17319994 0.45839697 0.18525573 0.18314737]\n",
      " [0.17149036 0.44802732 0.20647965 0.17400267]\n",
      " [0.15362657 0.40046625 0.27809964 0.16780755]\n",
      " [0.15764398 0.39271683 0.26750934 0.18212985]\n",
      " [0.14143206 0.35926299 0.34503813 0.15426681]\n",
      " [0.15001211 0.32786203 0.34505399 0.17707187]\n",
      " [0.32481704 0.37342225 0.1531231  0.14863762]\n",
      " [0.15119705 0.39415902 0.28615697 0.16848696]\n",
      " [0.1408024  0.32955758 0.3738688  0.15577121]\n",
      " [0.44597103 0.20542989 0.17951996 0.16907911]\n",
      " [0.15211315 0.29313344 0.39552705 0.15922636]]\n"
     ]
    }
   ],
   "source": [
    "print('计算不同类别、标签的权重')\n",
    "cost_w = []\n",
    "for col in subjects_eng:\n",
    "    crt_w = [\n",
    "        item[1]\n",
    "        for item in sorted(dict(df_train_data[col].value_counts()).items(),\n",
    "                           key=lambda x: x[0])\n",
    "    ]\n",
    "    crt_w = np.exp(1 * np.min(crt_w) / np.asarray(crt_w))\n",
    "    crt_w /= sum(crt_w)\n",
    "    cost_w.append(crt_w)\n",
    "print(np.asarray(cost_w))"
   ]
  },
  {
   "cell_type": "code",
   "execution_count": 34,
   "metadata": {
    "ExecuteTime": {
     "end_time": "2020-06-12T12:49:53.836534Z",
     "start_time": "2020-06-12T12:49:49.797570Z"
    }
   },
   "outputs": [
    {
     "name": "stdout",
     "output_type": "stream",
     "text": [
      "构造每个sample的label，权重\n",
      "(105000, 20, 4) (105000, 20) (15000, 20, 4) (15000, 20)\n"
     ]
    }
   ],
   "source": [
    "def build_labels_ws(data_path, file_name, all_subjects, cost_w):\n",
    "    data = pd.read_csv(data_path + file_name + '.csv',\n",
    "                       usecols=all_subjects).values\n",
    "    ans, ws = [], []\n",
    "    for items in data:\n",
    "        crt_ans, crt_ws = [], []\n",
    "        for i, c in zip(items, cost_w):\n",
    "            tmp = [0, 0, 0, 0] # 四分类\n",
    "            tmp[i + 2] = 1\n",
    "            crt_ans.append(tmp)\n",
    "            crt_ws.append(c[i + 2])\n",
    "        ans.append(crt_ans)  # 20 x 4\n",
    "        ws.append(crt_ws) # 20\n",
    "    return np.asarray(ans), np.asarray(ws)\n",
    "\n",
    "\n",
    "print('构造每个sample的label，权重')\n",
    "train_labels, train_ws = build_labels_ws(\n",
    "    './datasets/',\n",
    "    'trainingset',\n",
    "    subjects_eng, cost_w)\n",
    "val_labels, val_ws = build_labels_ws(\n",
    "    './datasets/',\n",
    "    'validationset',\n",
    "    subjects_eng, cost_w)\n",
    "print(train_labels.shape, train_ws.shape, val_labels.shape, val_ws.shape)"
   ]
  },
  {
   "cell_type": "code",
   "execution_count": 38,
   "metadata": {
    "ExecuteTime": {
     "end_time": "2020-06-12T12:54:50.483424Z",
     "start_time": "2020-06-12T12:54:50.444164Z"
    }
   },
   "outputs": [],
   "source": [
    "# # 将处理好的数据保存\n",
    "# with open('./datasets/labels.npy','wb') as f:\n",
    "#     np.save(f, train_labels)\n",
    "#     np.save(f, train_ws)\n",
    "#     np.save(f, val_labels)\n",
    "#     np.save(f, val_ws)  "
   ]
  },
  {
   "cell_type": "code",
   "execution_count": 17,
   "metadata": {
    "ExecuteTime": {
     "end_time": "2020-06-12T12:01:33.727382Z",
     "start_time": "2020-06-12T12:01:33.720841Z"
    }
   },
   "outputs": [
    {
     "data": {
      "text/plain": [
       "(array([[1, 0, 0, 0],\n",
       "        [1, 0, 0, 0],\n",
       "        [1, 0, 0, 0],\n",
       "        [1, 0, 0, 0],\n",
       "        [0, 0, 0, 1],\n",
       "        [1, 0, 0, 0],\n",
       "        [1, 0, 0, 0],\n",
       "        [1, 0, 0, 0],\n",
       "        [1, 0, 0, 0],\n",
       "        [0, 0, 0, 1],\n",
       "        [1, 0, 0, 0],\n",
       "        [1, 0, 0, 0],\n",
       "        [1, 0, 0, 0],\n",
       "        [1, 0, 0, 0],\n",
       "        [1, 0, 0, 0],\n",
       "        [1, 0, 0, 0],\n",
       "        [0, 0, 0, 1],\n",
       "        [1, 0, 0, 0],\n",
       "        [0, 0, 0, 1],\n",
       "        [1, 0, 0, 0]]),\n",
       " array([0.14484863, 0.13910733, 0.15255294, 0.13548401, 0.17184149,\n",
       "        0.13316494, 0.1553022 , 0.16073924, 0.13667641, 0.18314737,\n",
       "        0.17149036, 0.15362657, 0.15764398, 0.14143206, 0.15001211,\n",
       "        0.32481704, 0.16848696, 0.1408024 , 0.16907911, 0.15211315]))"
      ]
     },
     "execution_count": 17,
     "metadata": {},
     "output_type": "execute_result"
    }
   ],
   "source": [
    "train_labels[0], train_ws[0]"
   ]
  },
  {
   "cell_type": "code",
   "execution_count": null,
   "metadata": {},
   "outputs": [],
   "source": []
  },
  {
   "cell_type": "code",
   "execution_count": 18,
   "metadata": {
    "ExecuteTime": {
     "end_time": "2020-06-12T12:05:26.340528Z",
     "start_time": "2020-06-12T12:05:25.648892Z"
    }
   },
   "outputs": [
    {
     "name": "stdout",
     "output_type": "stream",
     "text": [
      "根据word2id构造对应的词向量\n"
     ]
    },
    {
     "name": "stderr",
     "output_type": "stream",
     "text": [
      "/home/yangbin7/anaconda3/lib/python3.7/site-packages/ipykernel_launcher.py:9: DeprecationWarning: Call to deprecated `__contains__` (Method will be removed in 4.0.0, use self.wv.__contains__() instead).\n",
      "  if __name__ == '__main__':\n",
      "/home/yangbin7/anaconda3/lib/python3.7/site-packages/ipykernel_launcher.py:11: DeprecationWarning: Call to deprecated `__getitem__` (Method will be removed in 4.0.0, use self.wv.__getitem__() instead).\n",
      "  # This is added back by InteractiveShellApp.init_path()\n"
     ]
    },
    {
     "name": "stdout",
     "output_type": "stream",
     "text": [
      "1\n",
      "contain rate:127527/127528\n",
      "(127528, 100)\n"
     ]
    }
   ],
   "source": [
    "def load_word_embeddings(word2id, com_w2v, word_char_emb=False):\n",
    "    com_w2v_embedding_dim = com_w2v.vector_size\n",
    "    word2vec = {}\n",
    "    fnl_word2vec = np.random.uniform(-0.01, 0.01,\n",
    "                                     [len(word2id), com_w2v_embedding_dim])\n",
    "\n",
    "    contain_w_cnt = 0\n",
    "    for w, w_id in word2id.items():\n",
    "        if w in com_w2v:\n",
    "            contain_w_cnt += 1\n",
    "            crt_word_vec = com_w2v[w]\n",
    "        elif w in word2vec:\n",
    "            crt_word_vec = word2vec[w]\n",
    "        else:\n",
    "            tmp_word_vec = np.random.uniform(-0.01, 0.01,\n",
    "                                             [com_w2v_embedding_dim])\n",
    "            word2vec[w] = tmp_word_vec\n",
    "            crt_word_vec = tmp_word_vec\n",
    "        fnl_word2vec[word2id[w]] = crt_word_vec\n",
    "\n",
    "    print(len(word2vec))\n",
    "    print('contain rate:%d/%d' % (contain_w_cnt, len(word2id)))\n",
    "    fnl_word2vec[word2id['<pad>'], :] = 0\n",
    "    return fnl_word2vec, com_w2v_embedding_dim\n",
    "\n",
    "print('根据word2id构造对应的词向量')\n",
    "embedding_matrix, embedding_dim = load_word_embeddings(word2id, w2v)\n",
    "embedding_matrix = embedding_matrix.astype(np.float32)\n",
    "print(embedding_matrix.shape)"
   ]
  },
  {
   "cell_type": "code",
   "execution_count": 39,
   "metadata": {
    "ExecuteTime": {
     "end_time": "2020-06-12T12:57:19.975465Z",
     "start_time": "2020-06-12T12:57:19.949995Z"
    }
   },
   "outputs": [],
   "source": [
    "# np.save('./saved/word_embed', embedding_matrix)"
   ]
  },
  {
   "cell_type": "code",
   "execution_count": null,
   "metadata": {},
   "outputs": [],
   "source": []
  },
  {
   "cell_type": "code",
   "execution_count": 19,
   "metadata": {
    "ExecuteTime": {
     "end_time": "2020-06-12T12:10:03.872751Z",
     "start_time": "2020-06-12T12:10:03.865493Z"
    }
   },
   "outputs": [
    {
     "name": "stdout",
     "output_type": "stream",
     "text": [
      "对aspect编码\n",
      "(20, 7) (20,)\n"
     ]
    }
   ],
   "source": [
    "def build_aspect(word2id, all_subjects, aspect_max_len):\n",
    "    subject_rst, subject_lens = [], []\n",
    "    for subject in all_subjects:\n",
    "        words = []\n",
    "        for w in subject.split(' '):\n",
    "            words.append(word2id[w])\n",
    "        if len(words) > aspect_max_len:\n",
    "            subject_lens.append(aspect_max_len)\n",
    "            words = words[:aspect_max_len]\n",
    "        else:\n",
    "            subject_lens.append(len(words))\n",
    "            words = words + [0] * (aspect_max_len - len(words))\n",
    "        subject_rst.append(words)\n",
    "    return np.asarray(subject_rst), np.asarray(subject_lens)\n",
    "\n",
    "\n",
    "print('对aspect编码')\n",
    "aspect_input, aspect_lens = build_aspect(word2id, subjects, max_aspect_len)\n",
    "print(aspect_input.shape, aspect_lens.shape)"
   ]
  },
  {
   "cell_type": "code",
   "execution_count": 20,
   "metadata": {
    "ExecuteTime": {
     "end_time": "2020-06-12T12:10:09.608988Z",
     "start_time": "2020-06-12T12:10:09.603191Z"
    }
   },
   "outputs": [
    {
     "data": {
      "text/plain": [
       "array([[  1,   2,   3,   4,   5,   6,   7],\n",
       "       [  8,   9,  10,  11,  12,  13,  14],\n",
       "       [ 15,   4,  16,  17,  18,   3,  19],\n",
       "       [ 20,  21,  22,  23,  24,  25,  26],\n",
       "       [ 27,  28,  29,  30,  31,  32,  33],\n",
       "       [ 34,  35,  36,  37,  38,  39,  40],\n",
       "       [ 41,  42,  43,  44,  45,  46,  22],\n",
       "       [ 47,  48,  49,  50,  51,  52,  53],\n",
       "       [ 54,  55,  56,  57,  58,  53,  59],\n",
       "       [ 60,  61,  62,  63,  64,  65,  66],\n",
       "       [ 67,  68,  69,  70,  71,  72,  73],\n",
       "       [ 74,  75,  67,  76,  77,  78,  79],\n",
       "       [ 80,  81,  82,  83,  67,  84,  85],\n",
       "       [ 86,  87,  75,  88,  89,  90,  91],\n",
       "       [ 92,  93,  94,  95,  96,  97,  98],\n",
       "       [ 99, 100,  90, 101, 102, 103, 104],\n",
       "       [105, 106, 107, 108, 109, 110, 111],\n",
       "       [112, 113, 114, 115, 116, 117, 118],\n",
       "       [119, 120, 121, 122, 123, 124, 125],\n",
       "       [126, 127, 128, 129, 130, 114, 112]])"
      ]
     },
     "execution_count": 20,
     "metadata": {},
     "output_type": "execute_result"
    }
   ],
   "source": [
    "aspect_input\n",
    "\n",
    "# 每个 aspect 由 7 个单词组成，每个单词由 7 个字符组成"
   ]
  },
  {
   "cell_type": "code",
   "execution_count": 56,
   "metadata": {
    "ExecuteTime": {
     "end_time": "2020-06-12T13:12:56.194677Z",
     "start_time": "2020-06-12T13:12:56.187170Z"
    }
   },
   "outputs": [],
   "source": [
    "# # 保存 aspect_input\n",
    "# np.save(\"./datasets/aspects\", aspect_input)"
   ]
  },
  {
   "cell_type": "code",
   "execution_count": 49,
   "metadata": {
    "ExecuteTime": {
     "end_time": "2020-06-12T13:08:02.617630Z",
     "start_time": "2020-06-12T13:08:02.612319Z"
    }
   },
   "outputs": [
    {
     "data": {
      "text/plain": [
       "int"
      ]
     },
     "execution_count": 49,
     "metadata": {},
     "output_type": "execute_result"
    }
   ],
   "source": [
    "type(len(aspect_input))"
   ]
  },
  {
   "cell_type": "code",
   "execution_count": 50,
   "metadata": {
    "ExecuteTime": {
     "end_time": "2020-06-12T13:08:20.636630Z",
     "start_time": "2020-06-12T13:08:20.630852Z"
    }
   },
   "outputs": [
    {
     "data": {
      "text/plain": [
       "int"
      ]
     },
     "execution_count": 50,
     "metadata": {},
     "output_type": "execute_result"
    }
   ],
   "source": [
    "type(w2v.vector_size)"
   ]
  },
  {
   "cell_type": "code",
   "execution_count": 51,
   "metadata": {
    "ExecuteTime": {
     "end_time": "2020-06-12T13:08:44.816220Z",
     "start_time": "2020-06-12T13:08:44.798094Z"
    }
   },
   "outputs": [
    {
     "ename": "TypeError",
     "evalue": "'float' object cannot be interpreted as an integer",
     "output_type": "error",
     "traceback": [
      "\u001b[0;31m---------------------------------------------------------------------------\u001b[0m",
      "\u001b[0;31mTypeError\u001b[0m                                 Traceback (most recent call last)",
      "\u001b[0;32m<ipython-input-51-42f756c38d17>\u001b[0m in \u001b[0;36m<module>\u001b[0;34m\u001b[0m\n\u001b[1;32m      1\u001b[0m aspect_embed = np.random.randn(-0.01, 0.01,\n\u001b[0;32m----> 2\u001b[0;31m                                [len(aspect_input), w2v.vector_size])\n\u001b[0m",
      "\u001b[0;32mmtrand.pyx\u001b[0m in \u001b[0;36mnumpy.random.mtrand.RandomState.randn\u001b[0;34m()\u001b[0m\n",
      "\u001b[0;32mmtrand.pyx\u001b[0m in \u001b[0;36mnumpy.random.mtrand.RandomState.standard_normal\u001b[0;34m()\u001b[0m\n",
      "\u001b[0;32m_common.pyx\u001b[0m in \u001b[0;36mnumpy.random._common.cont\u001b[0;34m()\u001b[0m\n",
      "\u001b[0;31mTypeError\u001b[0m: 'float' object cannot be interpreted as an integer"
     ]
    }
   ],
   "source": [
    "aspect_embed = np.random.randn(-0.01, 0.01,\n",
    "                               [len(aspect_input), w2v.vector_size])"
   ]
  },
  {
   "cell_type": "code",
   "execution_count": null,
   "metadata": {},
   "outputs": [],
   "source": []
  },
  {
   "cell_type": "code",
   "execution_count": null,
   "metadata": {},
   "outputs": [],
   "source": []
  },
  {
   "cell_type": "code",
   "execution_count": null,
   "metadata": {},
   "outputs": [],
   "source": []
  },
  {
   "cell_type": "code",
   "execution_count": 22,
   "metadata": {
    "ExecuteTime": {
     "end_time": "2020-06-12T12:16:18.254872Z",
     "start_time": "2020-06-12T12:16:18.249899Z"
    }
   },
   "outputs": [
    {
     "name": "stdout",
     "output_type": "stream",
     "text": [
      "building char vector...\n"
     ]
    }
   ],
   "source": [
    "print('building char vector...')\n",
    "max_char_len = 7\n",
    "ch2v_path, ch2v_char2id_txt = './saved/char2vec.model', 'char2id'"
   ]
  },
  {
   "cell_type": "code",
   "execution_count": 23,
   "metadata": {
    "ExecuteTime": {
     "end_time": "2020-06-12T12:17:09.025377Z",
     "start_time": "2020-06-12T12:16:19.571521Z"
    }
   },
   "outputs": [
    {
     "name": "stdout",
     "output_type": "stream",
     "text": [
      "构造 char2id 映射\n",
      "6380\n",
      "./datasets/char2id.txt\n"
     ]
    },
    {
     "name": "stderr",
     "output_type": "stream",
     "text": [
      "/home/yangbin7/anaconda3/lib/python3.7/site-packages/ipykernel_launcher.py:33: DeprecationWarning: Call to deprecated `__contains__` (Method will be removed in 4.0.0, use self.wv.__contains__() instead).\n",
      "/home/yangbin7/anaconda3/lib/python3.7/site-packages/ipykernel_launcher.py:45: DeprecationWarning: Call to deprecated `__contains__` (Method will be removed in 4.0.0, use self.wv.__contains__() instead).\n"
     ]
    },
    {
     "name": "stdout",
     "output_type": "stream",
     "text": [
      "6381 1779 21\n"
     ]
    }
   ],
   "source": [
    "def get_char2id(data_path,\n",
    "                all_subjects,\n",
    "                train_fname,\n",
    "                val_fname,\n",
    "                test_fname,\n",
    "                w2v,\n",
    "                pre_processed,\n",
    "                save_fname,\n",
    "                suffix='_char_list.txt'):\n",
    "    '''构造 char id 映射'''\n",
    "    save_fname = data_path + save_fname + '.txt'\n",
    "    print(save_fname)\n",
    "    word2id = {}\n",
    "    max_len, max_aspect_len = 0, 0\n",
    "\n",
    "    if pre_processed:\n",
    "        crt_cnt = 0\n",
    "        with open(save_fname) as f_r:\n",
    "            for line in f_r:\n",
    "                crt_cnt += 1\n",
    "                if crt_cnt == 1:\n",
    "                    max_len, max_aspect_len = line[:-1].split(' ')\n",
    "                    max_len, max_aspect_len = int(max_len), int(max_aspect_len)\n",
    "                else:\n",
    "                    tmp = line[:-1].split(' ')\n",
    "                    word2id[tmp[0]] = int(tmp[1])\n",
    "    else:\n",
    "        word2id['<pad>'] = 0\n",
    "        for s in all_subjects:\n",
    "            crt_len = 0\n",
    "            for word in s:\n",
    "                if len(word.strip()) == 0: continue\n",
    "                if word in w2v:\n",
    "                    crt_len += 1\n",
    "                    if word not in word2id:\n",
    "                        word2id[word] = len(word2id)\n",
    "            max_aspect_len = max(crt_len, max_aspect_len)\n",
    "\n",
    "        for file_path in [train_fname, val_fname, test_fname]:\n",
    "            file_path = data_path + file_path + suffix\n",
    "            with open(file_path) as f_r:\n",
    "                for line in f_r:\n",
    "                    crt_len = 0\n",
    "                    for word in line.strip().split(' '):\n",
    "                        if word in w2v:\n",
    "                            crt_len += 1\n",
    "                            if word not in word2id:\n",
    "                                word2id[word] = len(word2id)\n",
    "                    max_len = max(crt_len, max_len)\n",
    "\n",
    "        with open(save_fname, 'w') as fsave:\n",
    "            fsave.write('%d %d\\n' % (max_len, max_aspect_len))\n",
    "            for item in sorted(word2id.items(), key=lambda x: x[1]):\n",
    "                fsave.write(item[0] + ' ' + str(item[1]) + '\\n')\n",
    "    return word2id, max_len, max_aspect_len\n",
    "\n",
    "\n",
    "print('构造 char2id 映射')\n",
    "ch2v = Word2Vec.load(ch2v_path)\n",
    "print(len(ch2v.wv.vocab))\n",
    "char2id, max_context_len_ch, max_aspect_len_ch = get_char2id(\n",
    "    './datasets/',\n",
    "    subjects,\n",
    "    'trainingset',\n",
    "    'validationset',\n",
    "    'testa',\n",
    "    ch2v,\n",
    "    pre_processed=False,\n",
    "    save_fname=ch2v_char2id_txt,\n",
    "    suffix='_char_list.txt')\n",
    "print(len(char2id), max_context_len_ch, max_aspect_len_ch)"
   ]
  },
  {
   "cell_type": "code",
   "execution_count": 24,
   "metadata": {
    "ExecuteTime": {
     "end_time": "2020-06-12T12:21:02.074241Z",
     "start_time": "2020-06-12T12:21:01.786013Z"
    }
   },
   "outputs": [
    {
     "name": "stdout",
     "output_type": "stream",
     "text": [
      "将每个词拆分为字并记录\n"
     ]
    }
   ],
   "source": [
    "print('将每个词拆分为字并记录')\n",
    "wid2char = {}\n",
    "for word, w_id in word2id.items():\n",
    "    add_item = []\n",
    "    if len(word) > max_char_len:\n",
    "        add_item = (\n",
    "            np.asarray([char2id[c] if c in char2id else 0 for c in list(word)[:max_char_len]]),\n",
    "            max_char_len)\n",
    "    else:\n",
    "        add_item = (\n",
    "            np.asarray(\n",
    "                [char2id[c] if c in char2id else 0 for c in list(word)] + [0] * (max_char_len - len(word))),\n",
    "            len(word))\n",
    "    wid2char[w_id] = add_item\n",
    "wid2char[0] = (np.zeros(max_char_len), 0)"
   ]
  },
  {
   "cell_type": "code",
   "execution_count": 25,
   "metadata": {
    "ExecuteTime": {
     "end_time": "2020-06-12T12:21:09.466359Z",
     "start_time": "2020-06-12T12:21:09.387100Z"
    }
   },
   "outputs": [
    {
     "data": {
      "text/plain": [
       "{0: (array([0., 0., 0., 0., 0., 0., 0.]), 0),\n",
       " 1: (array([1, 2, 3, 0, 0, 0, 0]), 3),\n",
       " 2: (array([1, 2, 0, 0, 0, 0, 0]), 2),\n",
       " 3: (array([1, 4, 5, 6, 0, 0, 0]), 4),\n",
       " 4: (array([5, 6, 0, 0, 0, 0, 0]), 2),\n",
       " 5: (array([7, 8, 9, 0, 0, 0, 0]), 3),\n",
       " 6: (array([7, 8, 9, 3, 0, 0, 0]), 4),\n",
       " 7: (array([7, 8, 3, 0, 0, 0, 0]), 3),\n",
       " 8: (array([10, 11,  0,  0,  0,  0,  0]), 2),\n",
       " 9: (array([12, 13,  0,  0,  0,  0,  0]), 2),\n",
       " 10: (array([12, 14,  0,  0,  0,  0,  0]), 2),\n",
       " 11: (array([15, 14,  0,  0,  0,  0,  0]), 2),\n",
       " 12: (array([16, 17, 18, 19,  0,  0,  0]), 4),\n",
       " 13: (array([20,  0,  0,  0,  0,  0,  0]), 1),\n",
       " 14: (array([12, 21, 22,  0,  0,  0,  0]), 3),\n",
       " 15: (array([23, 24,  0,  0,  0,  0,  0]), 2),\n",
       " 16: (array([25, 26,  0,  0,  0,  0,  0]), 2),\n",
       " 17: (array([27, 28,  0,  0,  0,  0,  0]), 2),\n",
       " 18: (array([27,  0,  0,  0,  0,  0,  0]), 1),\n",
       " 19: (array([29, 30,  0,  0,  0,  0,  0]), 2),\n",
       " 20: (array([31, 32,  0,  0,  0,  0,  0]), 2),\n",
       " 21: (array([33, 34,  0,  0,  0,  0,  0]), 2),\n",
       " 22: (array([35,  0,  0,  0,  0,  0,  0]), 1),\n",
       " 23: (array([33,  0,  0,  0,  0,  0,  0]), 1),\n",
       " 24: (array([33, 36,  0,  0,  0,  0,  0]), 2),\n",
       " 25: (array([34,  0,  0,  0,  0,  0,  0]), 1),\n",
       " 26: (array([36,  0,  0,  0,  0,  0,  0]), 1),\n",
       " 27: (array([37, 38,  0,  0,  0,  0,  0]), 2),\n",
       " 28: (array([39, 40, 41,  0,  0,  0,  0]), 3),\n",
       " 29: (array([42, 43,  0,  0,  0,  0,  0]), 2),\n",
       " 30: (array([39, 40, 37, 38,  0,  0,  0]), 4),\n",
       " 31: (array([44, 45,  0,  0,  0,  0,  0]), 2),\n",
       " 32: (array([39, 40,  0,  0,  0,  0,  0]), 2),\n",
       " 33: (array([39, 40, 46,  0,  0,  0,  0]), 3),\n",
       " 34: (array([47,  9,  0,  0,  0,  0,  0]), 2),\n",
       " 35: (array([48,  9, 49,  0,  0,  0,  0]), 3),\n",
       " 36: (array([48,  9,  5,  0,  0,  0,  0]), 3),\n",
       " 37: (array([48,  0,  0,  0,  0,  0,  0]), 1),\n",
       " 38: (array([48,  9, 14,  0,  0,  0,  0]), 3),\n",
       " 39: (array([9, 5, 0, 0, 0, 0, 0]), 2),\n",
       " 40: (array([50,  9,  0,  0,  0,  0,  0]), 2),\n",
       " 41: (array([51, 52,  0,  0,  0,  0,  0]), 2),\n",
       " 42: (array([53,  0,  0,  0,  0,  0,  0]), 1),\n",
       " 43: (array([54,  0,  0,  0,  0,  0,  0]), 1),\n",
       " 44: (array([55, 38,  0,  0,  0,  0,  0]), 2),\n",
       " 45: (array([56, 57,  0,  0,  0,  0,  0]), 2),\n",
       " 46: (array([58, 59,  0,  0,  0,  0,  0]), 2),\n",
       " 47: (array([31, 60,  0,  0,  0,  0,  0]), 2),\n",
       " 48: (array([61, 60,  0,  0,  0,  0,  0]), 2),\n",
       " 49: (array([62,  5,  0,  0,  0,  0,  0]), 2),\n",
       " 50: (array([63, 62,  0,  0,  0,  0,  0]), 2),\n",
       " 51: (array([64, 65,  0,  0,  0,  0,  0]), 2),\n",
       " 52: (array([62, 66,  0,  0,  0,  0,  0]), 2),\n",
       " 53: (array([67, 62, 68,  0,  0,  0,  0]), 3),\n",
       " 54: (array([61, 69, 70,  0,  0,  0,  0]), 3),\n",
       " 55: (array([17, 71, 72, 73,  0,  0,  0]), 4),\n",
       " 56: (array([61, 73,  0,  0,  0,  0,  0]), 2),\n",
       " 57: (array([17, 74, 62, 75,  0,  0,  0]), 4),\n",
       " 58: (array([76, 73,  0,  0,  0,  0,  0]), 2),\n",
       " 59: (array([77, 78,  0,  0,  0,  0,  0]), 2),\n",
       " 60: (array([79, 80,  0,  0,  0,  0,  0]), 2),\n",
       " 61: (array([81,  0,  0,  0,  0,  0,  0]), 1),\n",
       " 62: (array([82, 83, 84,  0,  0,  0,  0]), 3),\n",
       " 63: (array([85, 86, 87,  0,  0,  0,  0]), 3),\n",
       " 64: (array([81, 16,  0,  0,  0,  0,  0]), 2),\n",
       " 65: (array([88, 78,  0,  0,  0,  0,  0]), 2),\n",
       " 66: (array([87,  0,  0,  0,  0,  0,  0]), 1),\n",
       " 67: (array([89, 90,  0,  0,  0,  0,  0]), 2),\n",
       " 68: (array([91,  6,  0,  0,  0,  0,  0]), 2),\n",
       " 69: (array([92, 93,  0,  0,  0,  0,  0]), 2),\n",
       " 70: (array([94, 95, 94, 96,  0,  0,  0]), 4),\n",
       " 71: (array([89, 97,  0,  0,  0,  0,  0]), 2),\n",
       " 72: (array([88, 98,  0,  0,  0,  0,  0]), 2),\n",
       " 73: (array([43, 99,  0,  0,  0,  0,  0]), 2),\n",
       " 74: (array([100, 101,   0,   0,   0,   0,   0]), 2),\n",
       " 75: (array([102, 103,   0,   0,   0,   0,   0]), 2),\n",
       " 76: (array([104, 105,   0,   0,   0,   0,   0]), 2),\n",
       " 77: (array([106, 107,   0,   0,   0,   0,   0]), 2),\n",
       " 78: (array([108, 109,   0,   0,   0,   0,   0]), 2),\n",
       " 79: (array([110, 111,   0,   0,   0,   0,   0]), 2),\n",
       " 80: (array([112,   0,   0,   0,   0,   0,   0]), 1),\n",
       " 81: (array([113, 114,   0,   0,   0,   0,   0]), 2),\n",
       " 82: (array([115, 116,   0,   0,   0,   0,   0]), 2),\n",
       " 83: (array([117, 118,   0,   0,   0,   0,   0]), 2),\n",
       " 84: (array([119, 120,   0,   0,   0,   0,   0]), 2),\n",
       " 85: (array([121, 117,   0,   0,   0,   0,   0]), 2),\n",
       " 86: (array([122, 123,   0,   0,   0,   0,   0]), 2),\n",
       " 87: (array([124, 125,   0,   0,   0,   0,   0]), 2),\n",
       " 88: (array([126,  46,   0,   0,   0,   0,   0]), 2),\n",
       " 89: (array([127, 128,   0,   0,   0,   0,   0]), 2),\n",
       " 90: (array([ 61, 129,   0,   0,   0,   0,   0]), 2),\n",
       " 91: (array([130,   0,   0,   0,   0,   0,   0]), 1),\n",
       " 92: (array([131,  61, 132,   0,   0,   0,   0]), 3),\n",
       " 93: (array([  0, 133,   0,   0,   0,   0,   0]), 2),\n",
       " 94: (array([134,   0,   0,   0,   0,   0,   0]), 1),\n",
       " 95: (array([134, 135,   0,   0,   0,   0,   0]), 2),\n",
       " 96: (array([136, 137,   0,   0,   0,   0,   0]), 2),\n",
       " 97: (array([138, 112,   0,   0,   0,   0,   0]), 2),\n",
       " 98: (array([139,   0,   0,   0,   0,   0,   0]), 1),\n",
       " 99: (array([140, 141,   0,   0,   0,   0,   0]), 2),\n",
       " 100: (array([131,   0,   0,   0,   0,   0,   0]), 1),\n",
       " 101: (array([141, 142,   0,   0,   0,   0,   0]), 2),\n",
       " 102: (array([138, 131,   0,   0,   0,   0,   0]), 2),\n",
       " 103: (array([143, 141,   0,   0,   0,   0,   0]), 2),\n",
       " 104: (array([138, 144,   0,   0,   0,   0,   0]), 2),\n",
       " 105: (array([145, 146,   0,   0,   0,   0,   0]), 2),\n",
       " 106: (array([147,  95,   0,   0,   0,   0,   0]), 2),\n",
       " 107: (array([148, 149,   0,   0,   0,   0,   0]), 2),\n",
       " 108: (array([150, 151,   0,   0,   0,   0,   0]), 2),\n",
       " 109: (array([138, 152,   0,   0,   0,   0,   0]), 2),\n",
       " 110: (array([ 95,  96, 141,   0,   0,   0,   0]), 3),\n",
       " 111: (array([153, 154,   0,   0,   0,   0,   0]), 2),\n",
       " 112: (array([155, 156,   0,   0,   0,   0,   0]), 2),\n",
       " 113: (array([157, 158, 155, 156,   0,   0,   0]), 4),\n",
       " 114: (array([ 73, 159,   0,   0,   0,   0,   0]), 2),\n",
       " 115: (array([157, 155,   0,   0,   0,   0,   0]), 2),\n",
       " 116: (array([  0, 160,   0,   0,   0,   0,   0]), 2),\n",
       " 117: (array([161, 162, 155, 156,   0,   0,   0]), 4),\n",
       " 118: (array([ 59, 163,   0,   0,   0,   0,   0]), 2),\n",
       " 119: (array([138,   0,   0,   0,   0,   0,   0]), 1),\n",
       " 120: (array([164, 165,   0,   0,   0,   0,   0]), 2),\n",
       " 121: (array([166, 167, 163,   0,   0,   0,   0]), 3),\n",
       " 122: (array([168,   1,   0,   0,   0,   0,   0]), 2),\n",
       " 123: (array([169,   0,   0,   0,   0,   0,   0]), 1),\n",
       " 124: (array([170,   0,   0,   0,   0,   0,   0]), 1),\n",
       " 125: (array([171,   0,   0,   0,   0,   0,   0]), 1),\n",
       " 126: (array([172, 173,   0,   0,   0,   0,   0]), 2),\n",
       " 127: (array([174, 173,   0,   0,   0,   0,   0]), 2),\n",
       " 128: (array([175,   0,   0,   0,   0,   0,   0]), 1),\n",
       " 129: (array([ 61, 173,   0,   0,   0,   0,   0]), 2),\n",
       " 130: (array([176,   0,   0,   0,   0,   0,   0]), 1),\n",
       " 131: (array([177, 177,   0,   0,   0,   0,   0]), 2),\n",
       " 132: (array([177,   0,   0,   0,   0,   0,   0]), 1),\n",
       " 133: (array([178, 179,   0,   0,   0,   0,   0]), 2),\n",
       " 134: (array([180,   0,   0,   0,   0,   0,   0]), 1),\n",
       " 135: (array([181,   0,   0,   0,   0,   0,   0]), 1),\n",
       " 136: (array([182, 182, 183,   0,   0,   0,   0]), 3),\n",
       " 137: (array([18,  0,  0,  0,  0,  0,  0]), 1),\n",
       " 138: (array([184,   0,   0,   0,   0,   0,   0]), 1),\n",
       " 139: (array([112, 185,   0,   0,   0,   0,   0]), 2),\n",
       " 140: (array([186, 187,   0,   0,   0,   0,   0]), 2),\n",
       " 141: (array([188,   0,   0,   0,   0,   0,   0]), 1),\n",
       " 142: (array([189, 190,   0,   0,   0,   0,   0]), 2),\n",
       " 143: (array([  0, 191,   0,   0,   0,   0,   0]), 2),\n",
       " 144: (array([192,   0,   0,   0,   0,   0,   0]), 1),\n",
       " 145: (array([138, 193,   0,   0,   0,   0,   0]), 2),\n",
       " 146: (array([194, 136,   0,   0,   0,   0,   0]), 2),\n",
       " 147: (array([195,   0,   0,   0,   0,   0,   0]), 1),\n",
       " 148: (array([196, 197,   0,   0,   0,   0,   0]), 2),\n",
       " 149: (array([136,   0,   0,   0,   0,   0,   0]), 1),\n",
       " 150: (array([198, 199,   0,   0,   0,   0,   0]), 2),\n",
       " 151: (array([200,   0,   0,   0,   0,   0,   0]), 1),\n",
       " 152: (array([201,   0,   0,   0,   0,   0,   0]), 1),\n",
       " 153: (array([202,  44, 203,   0,   0,   0,   0]), 3),\n",
       " 154: (array([  0, 136,   0,   0,   0,   0,   0]), 2),\n",
       " 155: (array([204, 205,   0,   0,   0,   0,   0]), 2),\n",
       " 156: (array([152,   0,   0,   0,   0,   0,   0]), 1),\n",
       " 157: (array([206, 207,   0,   0,   0,   0,   0]), 2),\n",
       " 158: (array([208,   0,   0,   0,   0,   0,   0]), 1),\n",
       " 159: (array([209, 210,   0,   0,   0,   0,   0]), 2),\n",
       " 160: (array([183,   0,   0,   0,   0,   0,   0]), 1),\n",
       " 161: (array([211,   0,   0,   0,   0,   0,   0]), 1),\n",
       " 162: (array([ 51, 212,   0,   0,   0,   0,   0]), 2),\n",
       " 163: (array([ 18, 116,   0,   0,   0,   0,   0]), 2),\n",
       " 164: (array([213, 214,   0,   0,   0,   0,   0]), 2),\n",
       " 165: (array([215, 216,   0,   0,   0,   0,   0]), 2),\n",
       " 166: (array([217,   0,   0,   0,   0,   0,   0]), 1),\n",
       " 167: (array([153, 208,   0,   0,   0,   0,   0]), 2),\n",
       " 168: (array([218, 195, 188,   0,   0,   0,   0]), 3),\n",
       " 169: (array([219, 220,   0,   0,   0,   0,   0]), 2),\n",
       " 170: (array([112, 221,   0,   0,   0,   0,   0]), 2),\n",
       " 171: (array([ 58, 222, 223,   0,   0,   0,   0]), 3),\n",
       " 172: (array([172,   0,   0,   0,   0,   0,   0]), 1),\n",
       " 173: (array([189, 224,   0,   0,   0,   0,   0]), 2),\n",
       " 174: (array([225,   0,   0,   0,   0,   0,   0]), 1),\n",
       " 175: (array([226, 227, 228,   0,   0,   0,   0]), 3),\n",
       " 176: (array([229, 143,   0,   0,   0,   0,   0]), 2),\n",
       " 177: (array([230, 180,   0,   0,   0,   0,   0]), 2),\n",
       " 178: (array([231, 232,   0,   0,   0,   0,   0]), 2),\n",
       " 179: (array([233,   0,   0,   0,   0,   0,   0]), 1),\n",
       " 180: (array([234,   0,   0,   0,   0,   0,   0]), 1),\n",
       " 181: (array([150, 235,   0,   0,   0,   0,   0]), 2),\n",
       " 182: (array([236, 237,   0,   0,   0,   0,   0]), 2),\n",
       " 183: (array([238,   0,   0,   0,   0,   0,   0]), 1),\n",
       " 184: (array([239, 240,   0,   0,   0,   0,   0]), 2),\n",
       " 185: (array([241,   0,   0,   0,   0,   0,   0]), 1),\n",
       " 186: (array([242, 243,   0,   0,   0,   0,   0]), 2),\n",
       " 187: (array([244, 245,   0,   0,   0,   0,   0]), 2),\n",
       " 188: (array([246,  11,   0,   0,   0,   0,   0]), 2),\n",
       " 189: (array([247,   0,   0,   0,   0,   0,   0]), 1),\n",
       " 190: (array([112, 248,   0,   0,   0,   0,   0]), 2),\n",
       " 191: (array([249,   0,   0,   0,   0,   0,   0]), 1),\n",
       " 192: (array([251, 252,   0,   0,   0,   0,   0]), 2),\n",
       " 193: (array([253,   0,   0,   0,   0,   0,   0]), 1),\n",
       " 194: (array([117,   0,   0,   0,   0,   0,   0]), 1),\n",
       " 195: (array([254,   0,   0,   0,   0,   0,   0]), 1),\n",
       " 196: (array([255,   0,   0,   0,   0,   0,   0]), 1),\n",
       " 197: (array([204,  28,   0,   0,   0,   0,   0]), 2),\n",
       " 198: (array([256, 195,   0,   0,   0,   0,   0]), 2),\n",
       " 199: (array([172, 195,   0,   0,   0,   0,   0]), 2),\n",
       " 200: (array([257, 257,   0,   0,   0,   0,   0]), 2),\n",
       " 201: (array([230,   0,   0,   0,   0,   0,   0]), 1),\n",
       " 202: (array([194, 197,   0,   0,   0,   0,   0]), 2),\n",
       " 203: (array([258, 259,   0,   0,   0,   0,   0]), 2),\n",
       " 204: (array([194,   0,   0,   0,   0,   0,   0]), 1),\n",
       " 205: (array([260,   0,   0,   0,   0,   0,   0]), 1),\n",
       " 206: (array([261, 159, 131,   0,   0,   0,   0]), 3),\n",
       " 207: (array([262,   0,   0,   0,   0,   0,   0]), 1),\n",
       " 208: (array([263, 264, 223,   0,   0,   0,   0]), 3),\n",
       " 209: (array([265, 238,   0,   0,   0,   0,   0]), 2),\n",
       " 210: (array([266,   0,   0,   0,   0,   0,   0]), 1),\n",
       " 211: (array([194, 235,   0,   0,   0,   0,   0]), 2),\n",
       " 212: (array([121,   0,   0,   0,   0,   0,   0]), 1),\n",
       " 213: (array([122, 267,   0,   0,   0,   0,   0]), 2),\n",
       " 214: (array([268, 269,   0,   0,   0,   0,   0]), 2),\n",
       " 215: (array([  0, 270,   0,   0,   0,   0,   0]), 2),\n",
       " 216: (array([271, 233,   0,   0,   0,   0,   0]), 2),\n",
       " 217: (array([272, 217,   0,   0,   0,   0,   0]), 2),\n",
       " 218: (array([70,  0,  0,  0,  0,  0,  0]), 1),\n",
       " 219: (array([18, 35,  0,  0,  0,  0,  0]), 2),\n",
       " 220: (array([273, 223,   0,   0,   0,   0,   0]), 2),\n",
       " 221: (array([274, 275,   0,   0,   0,   0,   0]), 2),\n",
       " 222: (array([ 61, 195,   0,   0,   0,   0,   0]), 2),\n",
       " 223: (array([ 51, 276,   0,   0,   0,   0,   0]), 2),\n",
       " 224: (array([277, 252,   0,   0,   0,   0,   0]), 2),\n",
       " 225: (array([ 12, 235,   0,   0,   0,   0,   0]), 2),\n",
       " 226: (array([278, 184,   0,   0,   0,   0,   0]), 2),\n",
       " 227: (array([279, 280,   0,   0,   0,   0,   0]), 2),\n",
       " 228: (array([131,  61, 281,   0,   0,   0,   0]), 3),\n",
       " 229: (array([282, 283,   0,   0,   0,   0,   0]), 2),\n",
       " 230: (array([284, 285,   0,   0,   0,   0,   0]), 2),\n",
       " 231: (array([286, 139,   0,   0,   0,   0,   0]), 2),\n",
       " 232: (array([287, 133,   0,   0,   0,   0,   0]), 2),\n",
       " 233: (array([288, 153,   0,   0,   0,   0,   0]), 2),\n",
       " 234: (array([201, 289,   0,   0,   0,   0,   0]), 2),\n",
       " 235: (array([250, 285,   0,   0,   0,   0,   0]), 2),\n",
       " 236: (array([290, 133,   0,   0,   0,   0,   0]), 2),\n",
       " 237: (array([291, 292,   0,   0,   0,   0,   0]), 2),\n",
       " 238: (array([263,   0, 223,   0,   0,   0,   0]), 3),\n",
       " 239: (array([131, 293, 294,   0,   0,   0,   0]), 3),\n",
       " 240: (array([173,   0,   0,   0,   0,   0,   0]), 1),\n",
       " 241: (array([295,   0,   0,   0,   0,   0,   0]), 1),\n",
       " 242: (array([285,  58,   0,   0,   0,   0,   0]), 2),\n",
       " 243: (array([71,  0,  0,  0,  0,  0,  0]), 1),\n",
       " 244: (array([276,   0,   0,   0,   0,   0,   0]), 1),\n",
       " 245: (array([176, 296,   0,   0,   0,   0,   0]), 2),\n",
       " 246: (array([293, 294, 121,   0,   0,   0,   0]), 3),\n",
       " 247: (array([255,  71,   0,   0,   0,   0,   0]), 2),\n",
       " 248: (array([297, 197,   0,   0,   0,   0,   0]), 2),\n",
       " 249: (array([298, 299,   0,   0,   0,   0,   0]), 2),\n",
       " 250: (array([298,  95,   0,   0,   0,   0,   0]), 2),\n",
       " 251: (array([ 61, 300,   0,   0,   0,   0,   0]), 2),\n",
       " 252: (array([284, 133,   0,   0,   0,   0,   0]), 2),\n",
       " 253: (array([ 56, 134,   0,   0,   0,   0,   0]), 2),\n",
       " 254: (array([ 68, 301,   0,   0,   0,   0,   0]), 2),\n",
       " 255: (array([135,   0,   0,   0,   0,   0,   0]), 1),\n",
       " 256: (array([194, 186,   0,   0,   0,   0,   0]), 2),\n",
       " 257: (array([302,   0,   0,   0,   0,   0,   0]), 1),\n",
       " 258: (array([303, 304,   0,   0,   0,   0,   0]), 2),\n",
       " 259: (array([286, 305,   0,   0,   0,   0,   0]), 2),\n",
       " 260: (array([306, 278,   0,   0,   0,   0,   0]), 2),\n",
       " 261: (array([ 59, 307,   0,   0,   0,   0,   0]), 2),\n",
       " 262: (array([61,  0,  0,  0,  0,  0,  0]), 1),\n",
       " 263: (array([184, 308,   0,   0,   0,   0,   0]), 2),\n",
       " 264: (array([151, 277, 305,   0,   0,   0,   0]), 3),\n",
       " 265: (array([309,   0,   0,   0,   0,   0,   0]), 1),\n",
       " 266: (array([310,   0,   0,   0,   0,   0,   0]), 1),\n",
       " 267: (array([311, 312,   0,   0,   0,   0,   0]), 2),\n",
       " 268: (array([51,  0,  0,  0,  0,  0,  0]), 1),\n",
       " 269: (array([219,   0,   0,   0,   0,   0,   0]), 1),\n",
       " 270: (array([313, 314,   0,   0,   0,   0,   0]), 2),\n",
       " 271: (array([268, 257,   0,   0,   0,   0,   0]), 2),\n",
       " 272: (array([315,   0,   0,   0,   0,   0,   0]), 1),\n",
       " 273: (array([ 46, 165, 316, 317,   0,   0,   0]), 4),\n",
       " 274: (array([318, 319,   0,   0,   0,   0,   0]), 2),\n",
       " 275: (array([ 15, 320,   0,   0,   0,   0,   0]), 2),\n",
       " 276: (array([321,   0,   0,   0,   0,   0,   0]), 1),\n",
       " 277: (array([322, 323,   0,   0,   0,   0,   0]), 2),\n",
       " 278: (array([186,   0,   0,   0,   0,   0,   0]), 1),\n",
       " 279: (array([324, 325,   0,   0,   0,   0,   0]), 2),\n",
       " 280: (array([ 31, 131,   0,   0,   0,   0,   0]), 2),\n",
       " 281: (array([326, 327,   0,   0,   0,   0,   0]), 2),\n",
       " 282: (array([328,   0,   0,   0,   0,   0,   0]), 1),\n",
       " 283: (array([ 61, 135,   0,   0,   0,   0,   0]), 2),\n",
       " 284: (array([329, 330,   0,   0,   0,   0,   0]), 2),\n",
       " 285: (array([331, 141,   0,   0,   0,   0,   0]), 2),\n",
       " 286: (array([332,   0,   0,   0,   0,   0,   0]), 1),\n",
       " 287: (array([333, 334,   0,   0,   0,   0,   0]), 2),\n",
       " 288: (array([290, 335,   0,   0,   0,   0,   0]), 2),\n",
       " 289: (array([333, 336,   0,   0,   0,   0,   0]), 2),\n",
       " 290: (array([337, 338,   0,   0,   0,   0,   0]), 2),\n",
       " 291: (array([339,   0,   0,   0,   0,   0,   0]), 1),\n",
       " 292: (array([340,   0,   0,   0,   0,   0,   0]), 1),\n",
       " 293: (array([341,   0,   0,   0,   0,   0,   0]), 1),\n",
       " 294: (array([331, 342, 343,   0,   0,   0,   0]), 3),\n",
       " 295: (array([218, 181,   0,   0,   0,   0,   0]), 2),\n",
       " 296: (array([338, 342,   0,   0,   0,   0,   0]), 2),\n",
       " 297: (array([344,   0,   0,   0,   0,   0,   0]), 1),\n",
       " 298: (array([331,   0,   0,   0,   0,   0,   0]), 1),\n",
       " 299: (array([345, 346,   0,   0,   0,   0,   0]), 2),\n",
       " 300: (array([347, 348,   0,   0,   0,   0,   0]), 2),\n",
       " 301: (array([349, 350, 343,   0,   0,   0,   0]), 3),\n",
       " 302: (array([117,  96,   0,   0,   0,   0,   0]), 2),\n",
       " 303: (array([351, 333,   0,   0,   0,   0,   0]), 2),\n",
       " 304: (array([350, 150,   0,   0,   0,   0,   0]), 2),\n",
       " 305: (array([352, 117,   0,   0,   0,   0,   0]), 2),\n",
       " 306: (array([342,  95,   0,   0,   0,   0,   0]), 2),\n",
       " 307: (array([337,   0,   0,   0,   0,   0,   0]), 1),\n",
       " 308: (array([152, 353,   0,   0,   0,   0,   0]), 2),\n",
       " 309: (array([354,   0,   0,   0,   0,   0,   0]), 1),\n",
       " 310: (array([355, 356, 117,   0,   0,   0,   0]), 3),\n",
       " 311: (array([355, 356,   0,   0,   0,   0,   0]), 2),\n",
       " 312: (array([357, 137,   0,   0,   0,   0,   0]), 2),\n",
       " 313: (array([358, 359,   0,   0,   0,   0,   0]), 2),\n",
       " 314: (array([ 61, 360,   0,   0,   0,   0,   0]), 2),\n",
       " 315: (array([278, 361,   0,   0,   0,   0,   0]), 2),\n",
       " 316: (array([362, 351,   0,   0,   0,   0,   0]), 2),\n",
       " 317: (array([363, 364,   0,   0,   0,   0,   0]), 2),\n",
       " 318: (array([365, 337, 366,   0,   0,   0,   0]), 3),\n",
       " 319: (array([367,   0,   0,   0,   0,   0,   0]), 1),\n",
       " 320: (array([ 33, 368,   0,   0,   0,   0,   0]), 2),\n",
       " 321: (array([61, 70,  0,  0,  0,  0,  0]), 2),\n",
       " 322: (array([ 51, 369,   0,   0,   0,   0,   0]), 2),\n",
       " 323: (array([370,   0,   0,   0,   0,   0,   0]), 1),\n",
       " 324: (array([371,  77,   0,   0,   0,   0,   0]), 2),\n",
       " 325: (array([239, 276,   0,   0,   0,   0,   0]), 2),\n",
       " 326: (array([294, 372,   0,   0,   0,   0,   0]), 2),\n",
       " 327: (array([373, 243,   0,   0,   0,   0,   0]), 2),\n",
       " 328: (array([333,   0,   0,   0,   0,   0,   0]), 1),\n",
       " 329: (array([328, 374,   0,   0,   0,   0,   0]), 2),\n",
       " 330: (array([375, 137,   0,   0,   0,   0,   0]), 2),\n",
       " 331: (array([376, 138,   0,   0,   0,   0,   0]), 2),\n",
       " 332: (array([88, 78, 87,  0,  0,  0,  0]), 3),\n",
       " 333: (array([ 72, 224,   0,   0,   0,   0,   0]), 2),\n",
       " 334: (array([136, 180,   0,   0,   0,   0,   0]), 2),\n",
       " 335: (array([377,   0,   0,   0,   0,   0,   0]), 1),\n",
       " 336: (array([324, 325, 325,   0,   0,   0,   0]), 3),\n",
       " 337: (array([61, 28,  0,  0,  0,  0,  0]), 2),\n",
       " 338: (array([324,   0,   0,   0,   0,   0,   0]), 1),\n",
       " 339: (array([378, 208,   0,   0,   0,   0,   0]), 2),\n",
       " 340: (array([379,   0,   0,   0,   0,   0,   0]), 1),\n",
       " 341: (array([ 61, 184,   0,   0,   0,   0,   0]), 2),\n",
       " 342: (array([112, 380,   0,   0,   0,   0,   0]), 2),\n",
       " 343: (array([180, 381,   0,   0,   0,   0,   0]), 2),\n",
       " 344: (array([379, 325,   0,   0,   0,   0,   0]), 2),\n",
       " 345: (array([382, 295,   0,   0,   0,   0,   0]), 2),\n",
       " 346: (array([348, 383,   0,   0,   0,   0,   0]), 2),\n",
       " 347: (array([58,  0,  0,  0,  0,  0,  0]), 1),\n",
       " 348: (array([384,  39,   0,   0,   0,   0,   0]), 2),\n",
       " 349: (array([169, 385,   0,   0,   0,   0,   0]), 2),\n",
       " 350: (array([187,  62,   0,   0,   0,   0,   0]), 2),\n",
       " 351: (array([386, 387, 273, 388,   0,   0,   0]), 4),\n",
       " 352: (array([389, 390,   0,   0,   0,   0,   0]), 2),\n",
       " 353: (array([391, 392,   0,   0,   0,   0,   0]), 2),\n",
       " 354: (array([393, 394,   0,   0,   0,   0,   0]), 2),\n",
       " 355: (array([395, 187,   0,   0,   0,   0,   0]), 2),\n",
       " 356: (array([396,   0,   0,   0,   0,   0,   0]), 1),\n",
       " 357: (array([397,   0,   0,   0,   0,   0,   0]), 1),\n",
       " 358: (array([398,   0,   0,   0,   0,   0,   0]), 1),\n",
       " 359: (array([ 47, 399,   0,   0,   0,   0,   0]), 2),\n",
       " 360: (array([400, 401, 402,   0,   0,   0,   0]), 3),\n",
       " 361: (array([256,   0,   0,   0,   0,   0,   0]), 1),\n",
       " 362: (array([403,  84,   0,   0,   0,   0,   0]), 2),\n",
       " 363: (array([324, 379, 325,   0,   0,   0,   0]), 3),\n",
       " 364: (array([404, 405,   0,   0,   0,   0,   0]), 2),\n",
       " 365: (array([348, 406,   0,   0,   0,   0,   0]), 2),\n",
       " 366: (array([357,   0,   0,   0,   0,   0,   0]), 1),\n",
       " 367: (array([ 84, 385,   0,   0,   0,   0,   0]), 2),\n",
       " 368: (array([117, 343,   0,   0,   0,   0,   0]), 2),\n",
       " 369: (array([84, 18,  0,  0,  0,  0,  0]), 2),\n",
       " 370: (array([407, 408,   0,   0,   0,   0,   0]), 2),\n",
       " 371: (array([409,   0,   0,   0,   0,   0,   0]), 1),\n",
       " 372: (array([212, 186,   0,   0,   0,   0,   0]), 2),\n",
       " 373: (array([410,  33,   0,   0,   0,   0,   0]), 2),\n",
       " 374: (array([293,   0,   0,   0,   0,   0,   0]), 1),\n",
       " 375: (array([ 58, 136,   0,   0,   0,   0,   0]), 2),\n",
       " 376: (array([59,  0,  0,  0,  0,  0,  0]), 1),\n",
       " 377: (array([ 58, 411,   0,   0,   0,   0,   0]), 2),\n",
       " 378: (array([194, 412,   0,   0,   0,   0,   0]), 2),\n",
       " 379: (array([413,   0,   0,   0,   0,   0,   0]), 1),\n",
       " 380: (array([204,   0,   0,   0,   0,   0,   0]), 1),\n",
       " 381: (array([300,   0,   0,   0,   0,   0,   0]), 1),\n",
       " 382: (array([414,   0,   0,   0,   0,   0,   0]), 1),\n",
       " 383: (array([415, 416, 417,   0,   0,   0,   0]), 3),\n",
       " 384: (array([418,  56,   0,   0,   0,   0,   0]), 2),\n",
       " 385: (array([ 58, 176,   0,   0,   0,   0,   0]), 2),\n",
       " 386: (array([419, 420,   0,   0,   0,   0,   0]), 2),\n",
       " 387: (array([ 61, 421,   0,   0,   0,   0,   0]), 2),\n",
       " 388: (array([422,  56,   0,   0,   0,   0,   0]), 2),\n",
       " 389: (array([420,   0,   0,   0,   0,   0,   0]), 1),\n",
       " 390: (array([423, 424,   0,   0,   0,   0,   0]), 2),\n",
       " 391: (array([260, 375,   0,   0,   0,   0,   0]), 2),\n",
       " 392: (array([425, 176,   0,   0,   0,   0,   0]), 2),\n",
       " 393: (array([112,  22,   0,   0,   0,   0,   0]), 2),\n",
       " 394: (array([426, 427,   0,   0,   0,   0,   0]), 2),\n",
       " 395: (array([406,   0,   0,   0,   0,   0,   0]), 1),\n",
       " 396: (array([300, 176,   0,   0,   0,   0,   0]), 2),\n",
       " 397: (array([428,   0,   0,   0,   0,   0,   0]), 1),\n",
       " 398: (array([68,  0,  0,  0,  0,  0,  0]), 1),\n",
       " 399: (array([413, 138,   0,   0,   0,   0,   0]), 2),\n",
       " 400: (array([429,   0,   0,   0,   0,   0,   0]), 1),\n",
       " 401: (array([430,   0,   0,   0,   0,   0,   0]), 1),\n",
       " 402: (array([255, 431,   0,   0,   0,   0,   0]), 2),\n",
       " 403: (array([432,   0,   0,   0,   0,   0,   0]), 1),\n",
       " 404: (array([433,   0,   0,   0,   0,   0,   0]), 1),\n",
       " 405: (array([224, 385,   0,   0,   0,   0,   0]), 2),\n",
       " 406: (array([395, 434,   0,   0,   0,   0,   0]), 2),\n",
       " 407: (array([435, 436,   0,   0,   0,   0,   0]), 2),\n",
       " 408: (array([400,   0,   0,   0,   0,   0,   0]), 1),\n",
       " 409: (array([401, 402,   0,   0,   0,   0,   0]), 2),\n",
       " 410: (array([437,  56,   0,   0,   0,   0,   0]), 2),\n",
       " 411: (array([438, 439,   0,   0,   0,   0,   0]), 2),\n",
       " 412: (array([422, 440,  14,   0,   0,   0,   0]), 3),\n",
       " 413: (array([175, 204,   0,   0,   0,   0,   0]), 2),\n",
       " 414: (array([441, 442, 165, 408,   0,   0,   0]), 4),\n",
       " 415: (array([1, 0, 0, 0, 0, 0, 0]), 1),\n",
       " 416: (array([443, 444,   0,   0,   0,   0,   0]), 2),\n",
       " 417: (array([445, 402,   0,   0,   0,   0,   0]), 2),\n",
       " 418: (array([446,   0,   0,   0,   0,   0,   0]), 1),\n",
       " 419: (array([447,  42,   0,   0,   0,   0,   0]), 2),\n",
       " 420: (array([448, 293,   0,   0,   0,   0,   0]), 2),\n",
       " 421: (array([74, 23,  0,  0,  0,  0,  0]), 2),\n",
       " 422: (array([449, 147,   0,   0,   0,   0,   0]), 2),\n",
       " 423: (array([112, 112,   0,   0,   0,   0,   0]), 2),\n",
       " 424: (array([164, 135,   0,   0,   0,   0,   0]), 2),\n",
       " 425: (array([190,   0,   0,   0,   0,   0,   0]), 1),\n",
       " 426: (array([450,   0,   0,   0,   0,   0,   0]), 1),\n",
       " 427: (array([453, 453,   0,   0,   0,   0,   0]), 2),\n",
       " 428: (array([ 63, 454,   0,   0,   0,   0,   0]), 2),\n",
       " 429: (array([455, 456,   0,   0,   0,   0,   0]), 2),\n",
       " 430: (array([457, 214,   0,   0,   0,   0,   0]), 2),\n",
       " 431: (array([345, 195,   0,   0,   0,   0,   0]), 2),\n",
       " 432: (array([458,  21,   0,   0,   0,   0,   0]), 2),\n",
       " 433: (array([174, 459,   0,   0,   0,   0,   0]), 2),\n",
       " 434: (array([383, 460,   0,   0,   0,   0,   0]), 2),\n",
       " 435: (array([331, 370,   0,   0,   0,   0,   0]), 2),\n",
       " 436: (array([445, 364,   0,   0,   0,   0,   0]), 2),\n",
       " 437: (array([284, 243,   0,   0,   0,   0,   0]), 2),\n",
       " 438: (array([462, 134,   0,   0,   0,   0,   0]), 2),\n",
       " 439: (array([446, 463,   0,   0,   0,   0,   0]), 2),\n",
       " 440: (array([ 51, 464,   0,   0,   0,   0,   0]), 2),\n",
       " 441: (array([ 61, 131,   0,   0,   0,   0,   0]), 2),\n",
       " 442: (array([465, 408,   0,   0,   0,   0,   0]), 2),\n",
       " 443: (array([464,   0,   0,   0,   0,   0,   0]), 1),\n",
       " 444: (array([466,   0,   0,   0,   0,   0,   0]), 1),\n",
       " 445: (array([467,   0,   0,   0,   0,   0,   0]), 1),\n",
       " 446: (array([  0, 468,   0,   0,   0,   0,   0]), 2),\n",
       " 447: (array([320, 143,   0,   0,   0,   0,   0]), 2),\n",
       " 448: (array([277,   0,   0,   0,   0,   0,   0]), 1),\n",
       " 449: (array([469, 470,   0,   0,   0,   0,   0]), 2),\n",
       " 450: (array([191, 471,   0,   0,   0,   0,   0]), 2),\n",
       " 451: (array([472,   0,   0,   0,   0,   0,   0]), 1),\n",
       " 452: (array([473, 370,   0,   0,   0,   0,   0]), 2),\n",
       " 453: (array([294, 375, 474,   0,   0,   0,   0]), 3),\n",
       " 454: (array([189, 204,   0,   0,   0,   0,   0]), 2),\n",
       " 455: (array([153, 475,   0,   0,   0,   0,   0]), 2),\n",
       " 456: (array([175,   0,  61, 173,   0,   0,   0]), 4),\n",
       " 457: (array([476,   0,   0,   0,   0,   0,   0]), 1),\n",
       " 458: (array([477, 478,   0,   0,   0,   0,   0]), 2),\n",
       " 459: (array([415, 479,   0,   0,   0,   0,   0]), 2),\n",
       " 460: (array([466, 463,   0,   0,   0,   0,   0]), 2),\n",
       " 461: (array([182,   0,   0,   0,   0,   0,   0]), 1),\n",
       " 462: (array([480,  59,   0,   0,   0,   0,   0]), 2),\n",
       " 463: (array([296,   0,   0,   0,   0,   0,   0]), 1),\n",
       " 464: (array([112, 316,   0,   0,   0,   0,   0]), 2),\n",
       " 465: (array([480,  59, 481,   0,   0,   0,   0]), 3),\n",
       " 466: (array([482, 483, 484,   0,   0,   0,   0]), 3),\n",
       " 467: (array([219, 305,   0,   0,   0,   0,   0]), 2),\n",
       " 468: (array([485, 486,   0,   0,   0,   0,   0]), 2),\n",
       " 469: (array([487, 488,   0,   0,   0,   0,   0]), 2),\n",
       " 470: (array([236, 489,   0,   0,   0,   0,   0]), 2),\n",
       " 471: (array([ 61, 217,   0,   0,   0,   0,   0]), 2),\n",
       " 472: (array([241, 490,   0,   0,   0,   0,   0]), 2),\n",
       " 473: (array([211, 491,   0,   0,   0,   0,   0]), 2),\n",
       " 474: (array([100, 456,   0,   0,   0,   0,   0]), 2),\n",
       " 475: (array([  0, 492,   0,   0,   0,   0,   0]), 2),\n",
       " 476: (array([ 63, 176,   0,   0,   0,   0,   0]), 2),\n",
       " 477: (array([199,  84,   0,   0,   0,   0,   0]), 2),\n",
       " 478: (array([152, 159, 441,   0,   0,   0,   0]), 3),\n",
       " 479: (array([493,   0,   0,   0,   0,   0,   0]), 1),\n",
       " 480: (array([153,  17,   0,   0,   0,   0,   0]), 2),\n",
       " 481: (array([302, 494,   0,   0,   0,   0,   0]), 2),\n",
       " 482: (array([  0, 495, 136,   0,   0,   0,   0]), 3),\n",
       " 483: (array([496,   0,   0,   0,   0,   0,   0]), 1),\n",
       " 484: (array([428, 497,   0,   0,   0,   0,   0]), 2),\n",
       " 485: (array([498, 208,   0,   0,   0,   0,   0]), 2),\n",
       " 486: (array([473,   0,   0,   0,   0,   0,   0]), 1),\n",
       " 487: (array([  1, 142,   0,   0,   0,   0,   0]), 2),\n",
       " 488: (array([269, 159,   0,   0,   0,   0,   0]), 2),\n",
       " 489: (array([138,  61, 138,   0,   0,   0,   0]), 3),\n",
       " 490: (array([ 51, 112,   0,   0,   0,   0,   0]), 2),\n",
       " 491: (array([499,  38,   0,   0,   0,   0,   0]), 2),\n",
       " 492: (array([246, 500, 305,   0,   0,   0,   0]), 3),\n",
       " 493: (array([473, 408,   0,   0,   0,   0,   0]), 2),\n",
       " 494: (array([195, 501,   0,   0,   0,   0,   0]), 2),\n",
       " 495: (array([502, 503,   0,   0,   0,   0,   0]), 2),\n",
       " 496: (array([136, 180, 268, 269,   0,   0,   0]), 4),\n",
       " 497: (array([504, 289,   0,   0,   0,   0,   0]), 2),\n",
       " 498: (array([235,   0,   0,   0,   0,   0,   0]), 1),\n",
       " 499: (array([152,  28,   0,   0,   0,   0,   0]), 2),\n",
       " 500: (array([112, 505,   0,   0,   0,   0,   0]), 2),\n",
       " 501: (array([  0, 506, 507,   0,   0,   0,   0]), 3),\n",
       " 502: (array([ 29, 508, 459,   0,   0,   0,   0]), 3),\n",
       " 503: (array([ 58, 117,   0,   0,   0,   0,   0]), 2),\n",
       " 504: (array([509, 241,   0,   0,   0,   0,   0]), 2),\n",
       " 505: (array([510, 511,   0,   0,   0,   0,   0]), 2),\n",
       " 506: (array([ 44, 512,  36,   0,   0,   0,   0]), 3),\n",
       " 507: (array([287, 513, 514,   0,   0,   0,   0]), 3),\n",
       " 508: (array([360, 142,   0,   0,   0,   0,   0]), 2),\n",
       " 509: (array([515,  77,   0,   0,   0,   0,   0]), 2),\n",
       " 510: (array([192, 195,   0,   0,   0,   0,   0]), 2),\n",
       " 511: (array([ 0, 31,  0,  0,  0,  0,  0]), 2),\n",
       " 512: (array([227,   0,   0,   0,   0,   0,   0]), 1),\n",
       " 513: (array([516, 391,   0,   0,   0,   0,   0]), 2),\n",
       " 514: (array([502, 517,   0,   0,   0,   0,   0]), 2),\n",
       " 515: (array([181, 237,   0,   0,   0,   0,   0]), 2),\n",
       " 516: (array([395,  61, 276,   0,   0,   0,   0]), 3),\n",
       " 517: (array([518,   0,   0,   0,   0,   0,   0]), 1),\n",
       " 518: (array([493, 305,   0,   0,   0,   0,   0]), 2),\n",
       " 519: (array([519,   0,   0,   0,   0,   0,   0]), 1),\n",
       " 520: (array([194, 520,   0,   0,   0,   0,   0]), 2),\n",
       " 521: (array([  0, 143,   0,   0,   0,   0,   0]), 2),\n",
       " 522: (array([ 71, 186,   0,   0,   0,   0,   0]), 2),\n",
       " 523: (array([ 61, 518,   0,   0,   0,   0,   0]), 2),\n",
       " 524: (array([314, 117,   0,   0,   0,   0,   0]), 2),\n",
       " 525: (array([250, 136,   0,   0,   0,   0,   0]), 2),\n",
       " 526: (array([521,  59,   0,   0,   0,   0,   0]), 2),\n",
       " 527: (array([117, 522,   0,   0,   0,   0,   0]), 2),\n",
       " 528: (array([28,  0,  0,  0,  0,  0,  0]), 1),\n",
       " 529: (array([132,   0,   0,   0,   0,   0,   0]), 1),\n",
       " 530: (array([523, 492,   0,   0,   0,   0,   0]), 2),\n",
       " 531: (array([  0, 272,   0,   0,   0,   0,   0]), 2),\n",
       " 532: (array([524, 525,   0,   0,   0,   0,   0]), 2),\n",
       " 533: (array([135, 518,   0,   0,   0,   0,   0]), 2),\n",
       " 534: (array([290, 264, 136,   0,   0,   0,   0]), 3),\n",
       " 535: (array([252, 314,   0,   0,   0,   0,   0]), 2),\n",
       " 536: (array([526,   0,   0,   0,   0,   0,   0]), 1),\n",
       " 537: (array([  0, 290, 136,   0,   0,   0,   0]), 3),\n",
       " 538: (array([ 31, 527,   0,   0,   0,   0,   0]), 2),\n",
       " 539: (array([ 32, 480,   0,   0,   0,   0,   0]), 2),\n",
       " 540: (array([  0, 528, 484,   0,   0,   0,   0]), 3),\n",
       " 541: (array([ 70, 195,   0,   0,   0,   0,   0]), 2),\n",
       " 542: (array([529, 530,   0,   0,   0,   0,   0]), 2),\n",
       " 543: (array([250,   0,   0,   0,   0,   0,   0]), 1),\n",
       " 544: (array([  0, 223,   0,   0,   0,   0,   0]), 2),\n",
       " 545: (array([138, 519,   0,   0,   0,   0,   0]), 2),\n",
       " 546: (array([121, 531,   0,   0,   0,   0,   0]), 2),\n",
       " 547: (array([375, 117,   0,   0,   0,   0,   0]), 2),\n",
       " 548: (array([532, 533,   0,   0,   0,   0,   0]), 2),\n",
       " 549: (array([264, 422,   0,   0,   0,   0,   0]), 2),\n",
       " 550: (array([285,   0,   0,   0,   0,   0,   0]), 1),\n",
       " 551: (array([533, 180,   0,   0,   0,   0,   0]), 2),\n",
       " 552: (array([151, 534,   0,   0,   0,   0,   0]), 2),\n",
       " 553: (array([138, 535,   0,   0,   0,   0,   0]), 2),\n",
       " 554: (array([13,  0,  0,  0,  0,  0,  0]), 1),\n",
       " 555: (array([536,   0,   0,   0,   0,   0,   0]), 1),\n",
       " 556: (array([ 63, 306,   0,   0,   0,   0,   0]), 2),\n",
       " 557: (array([537, 538,   0,   0,   0,   0,   0]), 2),\n",
       " 558: (array([539, 252,   0,   0,   0,   0,   0]), 2),\n",
       " 559: (array([540, 468,   0,   0,   0,   0,   0]), 2),\n",
       " 560: (array([352,   1,   0,   0,   0,   0,   0]), 2),\n",
       " 561: (array([541, 535,   0,   0,   0,   0,   0]), 2),\n",
       " 562: (array([542, 383,   0,   0,   0,   0,   0]), 2),\n",
       " 563: (array([ 61, 543, 544, 375,   0,   0,   0]), 4),\n",
       " 564: (array([545,   0,   0,   0,   0,   0,   0]), 1),\n",
       " 565: (array([546, 547,   0,   0,   0,   0,   0]), 2),\n",
       " 566: (array([225, 548, 247,   0,   0,   0,   0]), 3),\n",
       " 567: (array([549, 520,   0,   0,   0,   0,   0]), 2),\n",
       " 568: (array([167, 167,  61, 550,   0,   0,   0]), 4),\n",
       " 569: (array([389,   0,   0,   0,   0,   0,   0]), 1),\n",
       " 570: (array([167,   0,   0,   0,   0,   0,   0]), 1),\n",
       " 571: (array([159,   0,   0,   0,   0,   0,   0]), 1),\n",
       " 572: (array([ 19, 375,   0,   0,   0,   0,   0]), 2),\n",
       " 573: (array([551, 552,   0,   0,   0,   0,   0]), 2),\n",
       " 574: (array([553,   0,   0,   0,   0,   0,   0]), 1),\n",
       " 575: (array([255, 247,   0,   0,   0,   0,   0]), 2),\n",
       " 576: (array([554,   0,   0,   0,   0,   0,   0]), 1),\n",
       " 577: (array([555,   0,   0,   0,   0,   0,   0]), 1),\n",
       " 578: (array([56,  0,  0,  0,  0,  0,  0]), 1),\n",
       " 579: (array([300, 247,   0,   0,   0,   0,   0]), 2),\n",
       " 580: (array([556,   0,   0,   0,   0,   0,   0]), 1),\n",
       " 581: (array([188,  60,   0,   0,   0,   0,   0]), 2),\n",
       " 582: (array([299,   0,   0,   0,   0,   0,   0]), 1),\n",
       " 583: (array([557, 558,   0,   0,   0,   0,   0]), 2),\n",
       " 584: (array([559, 560,   0,   0,   0,   0,   0]), 2),\n",
       " 585: (array([561, 555,   0,   0,   0,   0,   0]), 2),\n",
       " 586: (array([ 51, 562,   0,   0,   0,   0,   0]), 2),\n",
       " 587: (array([563,   0,   0,   0,   0,   0,   0]), 1),\n",
       " 588: (array([440, 564, 565,   0,   0,   0,   0]), 3),\n",
       " 589: (array([566, 567, 199,   0,   0,   0,   0]), 3),\n",
       " 590: (array([  8, 349,   0,   0,   0,   0,   0]), 2),\n",
       " 591: (array([565, 137,   0,   0,   0,   0,   0]), 2),\n",
       " 592: (array([568, 440,   0,   0,   0,   0,   0]), 2),\n",
       " 593: (array([569, 570,   0,   0,   0,   0,   0]), 2),\n",
       " 594: (array([375,   0,   0,   0,   0,   0,   0]), 1),\n",
       " 595: (array([562,   0,   0,   0,   0,   0,   0]), 1),\n",
       " 596: (array([  0, 571,   0,   0,   0,   0,   0]), 2),\n",
       " 597: (array([522,   0,   0,   0,   0,   0,   0]), 1),\n",
       " 598: (array([572,   0,   0,   0,   0,   0,   0]), 1),\n",
       " 599: (array([440, 573,   0,   0,   0,   0,   0]), 2),\n",
       " 600: (array([574,   0,   0,   0,   0,   0,   0]), 1),\n",
       " 601: (array([138, 276,   0,   0,   0,   0,   0]), 2),\n",
       " 602: (array([575,   0,   0,   0,   0,   0,   0]), 1),\n",
       " 603: (array([391, 252,   0,   0,   0,   0,   0]), 2),\n",
       " 604: (array([44,  0,  0,  0,  0,  0,  0]), 1),\n",
       " 605: (array([  1, 576,   0,   0,   0,   0,   0]), 2),\n",
       " 606: (array([577,   0,   0,   0,   0,   0,   0]), 1),\n",
       " 607: (array([195, 578,   0,   0,   0,   0,   0]), 2),\n",
       " 608: (array([579, 512, 565, 143,   0,   0,   0]), 4),\n",
       " 609: (array([580, 581, 112,  34,   0,   0,   0]), 4),\n",
       " 610: (array([582, 583,   0,   0,   0,   0,   0]), 2),\n",
       " 611: (array([250, 584,   0,   0,   0,   0,   0]), 2),\n",
       " 612: (array([ 31, 565,   0,   0,   0,   0,   0]), 2),\n",
       " 613: (array([585, 320,   0,   0,   0,   0,   0]), 2),\n",
       " 614: (array([255, 276, 586,   0,   0,   0,   0]), 3),\n",
       " 615: (array([566, 567, 587,   0,   0,   0,   0]), 3),\n",
       " 616: (array([31,  0,  0,  0,  0,  0,  0]), 1),\n",
       " 617: (array([588, 307,   0,   0,   0,   0,   0]), 2),\n",
       " 618: (array([589, 590, 583,   0,   0,   0,   0]), 3),\n",
       " 619: (array([591, 492,   0,   0,   0,   0,   0]), 2),\n",
       " 620: (array([19,  0,  0,  0,  0,  0,  0]), 1),\n",
       " 621: (array([592, 153,   0,   0,   0,   0,   0]), 2),\n",
       " 622: (array([593,   0,   0,   0,   0,   0,   0]), 1),\n",
       " 623: (array([594, 595,   0,   0,   0,   0,   0]), 2),\n",
       " 624: (array([596, 323,   0,   0,   0,   0,   0]), 2),\n",
       " 625: (array([235, 481,   0,   0,   0,   0,   0]), 2),\n",
       " 626: (array([47,  0,  0,  0,  0,  0,  0]), 1),\n",
       " 627: (array([320, 176,   0,   0,   0,   0,   0]), 2),\n",
       " 628: (array([191, 191,   0,   0,   0,   0,   0]), 2),\n",
       " 629: (array([323,   9,   0,   0,   0,   0,   0]), 2),\n",
       " 630: (array([385, 576,   0,   0,   0,   0,   0]), 2),\n",
       " 631: (array([ 61, 598,   0,   0,   0,   0,   0]), 2),\n",
       " 632: (array([599,   0,   0,   0,   0,   0,   0]), 1),\n",
       " 633: (array([600, 601,   0,   0,   0,   0,   0]), 2),\n",
       " 634: (array([504, 235,   0,   0,   0,   0,   0]), 2),\n",
       " 635: (array([51, 31,  0,  0,  0,  0,  0]), 2),\n",
       " 636: (array([ 51, 139,   0,   0,   0,   0,   0]), 2),\n",
       " 637: (array([ 71, 180,   0,   0,   0,   0,   0]), 2),\n",
       " 638: (array([250, 375,   0,   0,   0,   0,   0]), 2),\n",
       " 639: (array([602, 585,   0,   0,   0,   0,   0]), 2),\n",
       " 640: (array([272,  71,   0,   0,   0,   0,   0]), 2),\n",
       " 641: (array([  0, 290, 558,   0,   0,   0,   0]), 3),\n",
       " 642: (array([285, 402,   0,   0,   0,   0,   0]), 2),\n",
       " 643: (array([603,   0,   0,   0,   0,   0,   0]), 2),\n",
       " 644: (array([382,   0,   0,   0,   0,   0,   0]), 1),\n",
       " 645: (array([353,   0,   0,   0,   0,   0,   0]), 1),\n",
       " 646: (array([604, 605, 116,   0,   0,   0,   0]), 3),\n",
       " 647: (array([122, 136,   0,   0,   0,   0,   0]), 2),\n",
       " 648: (array([121, 606,   0,   0,   0,   0,   0]), 2),\n",
       " 649: (array([  0, 607,   0,   0,   0,   0,   0]), 2),\n",
       " 650: (array([212, 212,   0,   0,   0,   0,   0]), 2),\n",
       " 651: (array([608,  32, 116,   0,   0,   0,   0]), 3),\n",
       " 652: (array([609,   0,   0,   0,   0,   0,   0]), 1),\n",
       " 653: (array([610, 586,   0,   0,   0,   0,   0]), 2),\n",
       " 654: (array([173, 369,   0,   0,   0,   0,   0]), 2),\n",
       " 655: (array([137, 611,   0,   0,   0,   0,   0]), 2),\n",
       " 656: (array([72, 71,  0,  0,  0,  0,  0]), 2),\n",
       " 657: (array([338, 292,   0,   0,   0,   0,   0]), 2),\n",
       " 658: (array([612, 613,   0,   0,   0,   0,   0]), 2),\n",
       " 659: (array([138,  60,   0,   0,   0,   0,   0]), 2),\n",
       " 660: (array([31, 31,  0,  0,  0,  0,  0]), 2),\n",
       " 661: (array([264,   0,   0,   0,   0,   0,   0]), 1),\n",
       " 662: (array([290, 143,   0,   0,   0,   0,   0]), 2),\n",
       " 663: (array([264, 614, 579,   0,   0,   0,   0]), 3),\n",
       " 664: (array([476, 476,   0,   0,   0,   0,   0]), 2),\n",
       " 665: (array([615, 616,   0,   0,   0,   0,   0]), 2),\n",
       " 666: (array([617, 173,   0,   0,   0,   0,   0]), 2),\n",
       " 667: (array([ 32, 176,   0,   0,   0,   0,   0]), 2),\n",
       " 668: (array([225, 225,   0,   0,   0,   0,   0]), 2),\n",
       " 669: (array([366,   0,   0,   0,   0,   0,   0]), 1),\n",
       " 670: (array([  0, 412,   0,   0,   0,   0,   0]), 2),\n",
       " 671: (array([212, 212, 181,   0,   0,   0,   0]), 3),\n",
       " 672: (array([ 61, 369,   0,   0,   0,   0,   0]), 2),\n",
       " 673: (array([ 96, 141,   0,   0,   0,   0,   0]), 2),\n",
       " 674: (array([618, 517,   0,   0,   0,   0,   0]), 2),\n",
       " 675: (array([ 61, 322,   0,   0,   0,   0,   0]), 2),\n",
       " 676: (array([295, 305,   0,   0,   0,   0,   0]), 2),\n",
       " 677: (array([619, 620,   0,   0,   0,   0,   0]), 2),\n",
       " 678: (array([621, 622,   0,   0,   0,   0,   0]), 2),\n",
       " 679: (array([313,   0,   0,   0,   0,   0,   0]), 1),\n",
       " 680: (array([551, 623, 624,   0,   0,   0,   0]), 3),\n",
       " 681: (array([625,   0,   0,   0,   0,   0,   0]), 1),\n",
       " 682: (array([626,   0,   0,   0,   0,   0,   0]), 1),\n",
       " 683: (array([  0, 584,   0,   0,   0,   0,   0]), 2),\n",
       " 684: (array([189, 217,   0,   0,   0,   0,   0]), 2),\n",
       " 685: (array([627, 325,   0,   0,   0,   0,   0]), 2),\n",
       " 686: (array([628, 216,   0,   0,   0,   0,   0]), 2),\n",
       " 687: (array([629, 325,   0,   0,   0,   0,   0]), 2),\n",
       " 688: (array([630, 325,   0,   0,   0,   0,   0]), 2),\n",
       " 689: (array([589, 631,   0,   0,   0,   0,   0]), 2),\n",
       " 690: (array([60,  0,  0,  0,  0,  0,  0]), 1),\n",
       " 691: (array([273, 504,   0,   0,   0,   0,   0]), 2),\n",
       " 692: (array([490, 490,   0,   0,   0,   0,   0]), 2),\n",
       " 693: (array([632, 186,   0,   0,   0,   0,   0]), 2),\n",
       " 694: (array([633, 634,   0,   0,   0,   0,   0]), 2),\n",
       " 695: (array([ 54,  54, 176,   0,   0,   0,   0]), 3),\n",
       " 696: (array([ 18, 635, 484,   0,   0,   0,   0]), 3),\n",
       " 697: (array([186, 180,   0,   0,   0,   0,   0]), 2),\n",
       " 698: (array([636, 302,   0,   0,   0,   0,   0]), 2),\n",
       " 699: (array([627,   0,   0,   0,   0,   0,   0]), 1),\n",
       " 700: (array([ 61, 208,   0,   0,   0,   0,   0]), 2),\n",
       " 701: (array([486, 100, 637,   0,   0,   0,   0]), 3),\n",
       " 702: (array([121,  41,   0,   0,   0,   0,   0]), 2),\n",
       " 703: (array([559, 638,   0,   0,   0,   0,   0]), 2),\n",
       " 704: (array([121, 375,   0,   0,   0,   0,   0]), 2),\n",
       " 705: (array([ 61, 196, 197,   0,   0,   0,   0]), 3),\n",
       " 706: (array([639,   0,   0,   0,   0,   0,   0]), 1),\n",
       " 707: (array([ 18, 640,   0,   0,   0,   0,   0]), 2),\n",
       " 708: (array([  0, 320, 121,   0,   0,   0,   0]), 3),\n",
       " 709: (array([641, 641,   0,   0,   0,   0,   0]), 2),\n",
       " 710: (array([642, 586,   0,   0,   0,   0,   0]), 2),\n",
       " 711: (array([643, 644,   0,   0,   0,   0,   0]), 2),\n",
       " 712: (array([385,  71,   0,   0,   0,   0,   0]), 2),\n",
       " 713: (array([645,   0,   0,   0,   0,   0,   0]), 1),\n",
       " 714: (array([640, 646,   0,   0,   0,   0,   0]), 2),\n",
       " 715: (array([647, 648,   0,   0,   0,   0,   0]), 2),\n",
       " 716: (array([99,  0,  0,  0,  0,  0,  0]), 1),\n",
       " 717: (array([143, 359,   0,   0,   0,   0,   0]), 2),\n",
       " 718: (array([290, 136,   0,   0,   0,   0,   0]), 2),\n",
       " 719: (array([180,  81,   0,   0,   0,   0,   0]), 2),\n",
       " 720: (array([172,  71,   0,   0,   0,   0,   0]), 2),\n",
       " 721: (array([649, 446,   0,   0,   0,   0,   0]), 2),\n",
       " 722: (array([ 51, 281,   0,   0,   0,   0,   0]), 2),\n",
       " 723: (array([332, 650,   0,   0,   0,   0,   0]), 2),\n",
       " 724: (array([651,   0,   0,   0,   0,   0,   0]), 1),\n",
       " 725: (array([368,   0,   0,   0,   0,   0,   0]), 1),\n",
       " 726: (array([406, 117,   0,   0,   0,   0,   0]), 2),\n",
       " 727: (array([ 19, 338,   0,   0,   0,   0,   0]), 2),\n",
       " 728: (array([652, 653,   0,   0,   0,   0,   0]), 2),\n",
       " 729: (array([654, 655,   0,   0,   0,   0,   0]), 2),\n",
       " 730: (array([277,  32,   0,   0,   0,   0,   0]), 2),\n",
       " 731: (array([656,   0,   0,   0,   0,   0,   0]), 1),\n",
       " 732: (array([332, 657,   0,   0,   0,   0,   0]), 2),\n",
       " 733: (array([307, 144,   0,   0,   0,   0,   0]), 2),\n",
       " 734: (array([117, 473,   0,   0,   0,   0,   0]), 2),\n",
       " 735: (array([658, 659, 660,   0,   0,   0,   0]), 3),\n",
       " 736: (array([661, 662,   0,   0,   0,   0,   0]), 2),\n",
       " 737: (array([375, 583,   0,   0,   0,   0,   0]), 2),\n",
       " 738: (array([663, 276,   0,   0,   0,   0,   0]), 2),\n",
       " 739: (array([658,   0,   0,   0,   0,   0,   0]), 1),\n",
       " 740: (array([538, 141,   0,   0,   0,   0,   0]), 2),\n",
       " 741: (array([359,   0,   0,   0,   0,   0,   0]), 1),\n",
       " 742: (array([ 51, 332,   0,   0,   0,   0,   0]), 2),\n",
       " 743: (array([664,   0,   0,   0,   0,   0,   0]), 1),\n",
       " 744: (array([141,   0,   0,   0,   0,   0,   0]), 1),\n",
       " 745: (array([665,  28, 138, 666,   0,   0,   0]), 4),\n",
       " 746: (array([649, 446,  64,   0,   0,   0,   0]), 3),\n",
       " 747: (array([376, 649,   0,   0,   0,   0,   0]), 2),\n",
       " 748: (array([441, 176,   0,   0,   0,   0,   0]), 2),\n",
       " 749: (array([667,   0,   0,   0,   0,   0,   0]), 1),\n",
       " 750: (array([668, 361,   0,   0,   0,   0,   0]), 2),\n",
       " 751: (array([141, 359,   0,   0,   0,   0,   0]), 2),\n",
       " 752: (array([51, 73,  0,  0,  0,  0,  0]), 2),\n",
       " 753: (array([224, 314,   0,   0,   0,   0,   0]), 2),\n",
       " 754: (array([172, 173, 176,   0,   0,   0,   0]), 3),\n",
       " 755: (array([151, 669,   0,   0,   0,   0,   0]), 2),\n",
       " 756: (array([627, 379,   0,   0,   0,   0,   0]), 2),\n",
       " 757: (array([152, 670,   0,   0,   0,   0,   0]), 2),\n",
       " 758: (array([671,   0,   0,   0,   0,   0,   0]), 1),\n",
       " 759: (array([271, 672,   0,   0,   0,   0,   0]), 2),\n",
       " 760: (array([277, 243,   0,   0,   0,   0,   0]), 2),\n",
       " 761: (array([673,   0,   0,   0,   0,   0,   0]), 1),\n",
       " 762: (array([ 76, 219,   0,   0,   0,   0,   0]), 2),\n",
       " 763: (array([274, 385,   0,   0,   0,   0,   0]), 2),\n",
       " 764: (array([674, 138,   0,   0,   0,   0,   0]), 2),\n",
       " 765: (array([675,   0,   0,   0,   0,   0,   0]), 1),\n",
       " 766: (array([621, 184,   0,   0,   0,   0,   0]), 2),\n",
       " 767: (array([210, 677,   0,   0,   0,   0,   0]), 2),\n",
       " 768: (array([678,  20,   0,   0,   0,   0,   0]), 2),\n",
       " 769: (array([236, 678,   0,   0,   0,   0,   0]), 2),\n",
       " 770: (array([679,   0,   0,   0,   0,   0,   0]), 1),\n",
       " 771: (array([492, 680,   0,   0,   0,   0,   0]), 2),\n",
       " 772: (array([578,   0,   0,   0,   0,   0,   0]), 1),\n",
       " 773: (array([236, 681, 682,   0,   0,   0,   0]), 3),\n",
       " 774: (array([683,  28,   0,   0,   0,   0,   0]), 2),\n",
       " 775: (array([47,  0,  0,  0,  0,  0,  0]), 2),\n",
       " 776: (array([547,   0,   0,   0,   0,   0,   0]), 1),\n",
       " 777: (array([684, 547,   0,   0,   0,   0,   0]), 2),\n",
       " 778: (array([  0, 438,   0,   0,   0,   0,   0]), 2),\n",
       " 779: (array([197,   0,   0,   0,   0,   0,   0]), 1),\n",
       " 780: (array([131, 484,   0,   0,   0,   0,   0]), 2),\n",
       " 781: (array([188, 685,   0,   0,   0,   0,   0]), 2),\n",
       " 782: (array([9, 0, 0, 0, 0, 0, 0]), 1),\n",
       " 783: (array([441, 247,   0,   0,   0,   0,   0]), 2),\n",
       " 784: (array([264, 591,   0,   0,   0,   0,   0]), 2),\n",
       " 785: (array([686, 687,   0,   0,   0,   0,   0]), 2),\n",
       " 786: (array([32, 93,  0,  0,  0,  0,  0]), 2),\n",
       " 787: (array([  0, 235,   0,   0,   0,   0,   0]), 2),\n",
       " 788: (array([362,  47,   0,   0,   0,   0,   0]), 2),\n",
       " 789: (array([688, 298, 689,   0,   0,   0,   0]), 3),\n",
       " 790: (array([690, 691,   0,   0,   0,   0,   0]), 2),\n",
       " 791: (array([692,  66,   0,   0,   0,   0,   0]), 2),\n",
       " 792: (array([282, 295,   0,   0,   0,   0,   0]), 2),\n",
       " 793: (array([74,  0,  0,  0,  0,  0,  0]), 1),\n",
       " 794: (array([19, 43,  0,  0,  0,  0,  0]), 2),\n",
       " 795: (array([485, 693,   0,   0,   0,   0,   0]), 2),\n",
       " 796: (array([694,   0,   0,   0,   0,   0,   0]), 1),\n",
       " 797: (array([449,   0,   0,   0,   0,   0,   0]), 1),\n",
       " 798: (array([ 86, 686,   0,   0,   0,   0,   0]), 2),\n",
       " 799: (array([186, 307,   0,   0,   0,   0,   0]), 2),\n",
       " 800: (array([ 32, 695,   0,   0,   0,   0,   0]), 2),\n",
       " 801: (array([ 79, 686,   0,   0,   0,   0,   0]), 2),\n",
       " 802: (array([696, 583,   0,   0,   0,   0,   0]), 2),\n",
       " 803: (array([686,   0,   0,   0,   0,   0,   0]), 1),\n",
       " 804: (array([697,   0,   0,   0,   0,   0,   0]), 1),\n",
       " 805: (array([698,   0,   0,   0,   0,   0,   0]), 1),\n",
       " 806: (array([172, 186,   0,   0,   0,   0,   0]), 2),\n",
       " 807: (array([202, 654, 699,   0,   0,   0,   0]), 3),\n",
       " 808: (array([692, 141,   0,   0,   0,   0,   0]), 2),\n",
       " 809: (array([365, 700,   0,   0,   0,   0,   0]), 2),\n",
       " 810: (array([428, 686,   0,   0,   0,   0,   0]), 2),\n",
       " 811: (array([96,  0,  0,  0,  0,  0,  0]), 1),\n",
       " 812: (array([701, 141,   0,   0,   0,   0,   0]), 2),\n",
       " 813: (array([ 71, 186, 702,   0,   0,   0,   0]), 3),\n",
       " 814: (array([143, 141, 703,   0,   0,   0,   0]), 3),\n",
       " 815: (array([194, 223,   0,   0,   0,   0,   0]), 2),\n",
       " 816: (array([686, 352,   0,   0,   0,   0,   0]), 2),\n",
       " 817: (array([468, 176,   0,   0,   0,   0,   0]), 2),\n",
       " 818: (array([186,  59,   0,   0,   0,   0,   0]), 2),\n",
       " 819: (array([704,   0,   0,   0,   0,   0,   0]), 1),\n",
       " 820: (array([686, 463,   0,   0,   0,   0,   0]), 2),\n",
       " 821: (array([131, 281,   0,   0,   0,   0,   0]), 2),\n",
       " 822: (array([686, 705,   0,   0,   0,   0,   0]), 2),\n",
       " 823: (array([706, 146,   0,   0,   0,   0,   0]), 2),\n",
       " 824: (array([492, 223,   0,   0,   0,   0,   0]), 2),\n",
       " 825: (array([172, 176,   0,   0,   0,   0,   0]), 2),\n",
       " 826: (array([175, 223,   0,   0,   0,   0,   0]), 2),\n",
       " 827: (array([707,  18,   0,   0,   0,   0,   0]), 2),\n",
       " 828: (array([280,  49,   0,   0,   0,   0,   0]), 2),\n",
       " 829: (array([163, 708,   0,   0,   0,   0,   0]), 2),\n",
       " 830: (array([293, 294,   0,   0,   0,   0,   0]), 2),\n",
       " 831: (array([322,  32,   0,   0,   0,   0,   0]), 2),\n",
       " 832: (array([ 94, 709,   0,   0,   0,   0,   0]), 2),\n",
       " 833: (array([710, 141,   0,   0,   0,   0,   0]), 2),\n",
       " 834: (array([264, 451, 711,   0,   0,   0,   0]), 3),\n",
       " 835: (array([288, 712,   0,   0,   0,   0,   0]), 2),\n",
       " 836: (array([486, 713,   0,   0,   0,   0,   0]), 2),\n",
       " 837: (array([714, 205,   0,   0,   0,   0,   0]), 2),\n",
       " 838: (array([138,  27,   0,   0,   0,   0,   0]), 2),\n",
       " 839: (array([ 15, 715,   0,   0,   0,   0,   0]), 2),\n",
       " 840: (array([86,  0,  0,  0,  0,  0,  0]), 1),\n",
       " 841: (array([716, 717,   0,   0,   0,   0,   0]), 2),\n",
       " 842: (array([  7, 481,   0,   0,   0,   0,   0]), 2),\n",
       " 843: (array([180, 534,   0,   0,   0,   0,   0]), 2),\n",
       " 844: (array([485,  58,   7, 481,   0,   0,   0]), 4),\n",
       " 845: (array([112, 547,   0,   0,   0,   0,   0]), 2),\n",
       " 846: (array([718, 591,   0,   0,   0,   0,   0]), 2),\n",
       " 847: (array([ 20, 719,   0,   0,   0,   0,   0]), 2),\n",
       " 848: (array([720,   0,   0,   0,   0,   0,   0]), 1),\n",
       " 849: (array([ 86, 716, 721,   0,   0,   0,   0]), 3),\n",
       " 850: (array([722,  90,   0,   0,   0,   0,   0]), 2),\n",
       " 851: (array([723, 724,   0,   0,   0,   0,   0]), 2),\n",
       " 852: (array([115, 221,   0,   0,   0,   0,   0]), 2),\n",
       " 853: (array([504,   0,   0,   0,   0,   0,   0]), 1),\n",
       " 854: (array([ 51, 182,   0,   0,   0,   0,   0]), 2),\n",
       " 855: (array([  0, 592,   0,   0,   0,   0,   0]), 2),\n",
       " 856: (array([ 98, 116,   0,   0,   0,   0,   0]), 2),\n",
       " 857: (array([ 43, 725,   0,   0,   0,   0,   0]), 2),\n",
       " 858: (array([726,   0,   0,   0,   0,   0,   0]), 1),\n",
       " 859: (array([435, 621,   0,   0,   0,   0,   0]), 2),\n",
       " 860: (array([689,   0,   0,   0,   0,   0,   0]), 1),\n",
       " 861: (array([727, 402,   0,   0,   0,   0,   0]), 2),\n",
       " 862: (array([ 89, 728,   0,   0,   0,   0,   0]), 2),\n",
       " 863: (array([ 56, 411,   0,   0,   0,   0,   0]), 2),\n",
       " 864: (array([729,   0,   0,   0,   0,   0,   0]), 1),\n",
       " 865: (array([153, 533,   0,   0,   0,   0,   0]), 2),\n",
       " 866: (array([289,   0,   0,   0,   0,   0,   0]), 1),\n",
       " 867: (array([435, 323,   0,   0,   0,   0,   0]), 2),\n",
       " 868: (array([730, 246,   0,   0,   0,   0,   0]), 2),\n",
       " 869: (array([272, 195,   0,   0,   0,   0,   0]), 2),\n",
       " 870: (array([ 51, 135,   0,   0,   0,   0,   0]), 2),\n",
       " 871: (array([ 99, 408,   0,   0,   0,   0,   0]), 2),\n",
       " 872: (array([370, 408,   0,   0,   0,   0,   0]), 2),\n",
       " 873: (array([633,  18,   0,   0,   0,   0,   0]), 2),\n",
       " 874: (array([731, 295,   0,   0,   0,   0,   0]), 2),\n",
       " 875: (array([  0, 666,   0,   0,   0,   0,   0]), 2),\n",
       " 876: (array([549, 435,   0,   0,   0,   0,   0]), 2),\n",
       " 877: (array([408,   4,   0,   0,   0,   0,   0]), 2),\n",
       " 878: (array([435, 534,   0,   0,   0,   0,   0]), 2),\n",
       " 879: (array([  0, 223,  67,   0,   0,   0,   0]), 3),\n",
       " 880: (array([294, 732,   0,   0,   0,   0,   0]), 2),\n",
       " 881: (array([234, 343, 602,   0,   0,   0,   0]), 3),\n",
       " 882: (array([585,   0,   0,   0,   0,   0,   0]), 1),\n",
       " 883: (array([ 51, 496,   0,   0,   0,   0,   0]), 2),\n",
       " 884: (array([474,   0,   0,   0,   0,   0,   0]), 1),\n",
       " 885: (array([  0, 186,   0,   0,   0,   0,   0]), 2),\n",
       " 886: (array([733, 294,   0,   0,   0,   0,   0]), 2),\n",
       " 887: (array([470,  58,   0,   0,   0,   0,   0]), 2),\n",
       " 888: (array([734, 735,   0,   0,   0,   0,   0]), 2),\n",
       " 889: (array([736, 320,   0,   0,   0,   0,   0]), 2),\n",
       " 890: (array([453, 688,   0,   0,   0,   0,   0]), 2),\n",
       " 891: (array([737, 169,   0,   0,   0,   0,   0]), 2),\n",
       " 892: (array([513, 738,   0,   0,   0,   0,   0]), 2),\n",
       " 893: (array([419,   0,   0,   0,   0,   0,   0]), 1),\n",
       " 894: (array([132,  74,   0,   0,   0,   0,   0]), 2),\n",
       " 895: (array([192,  84,   0,   0,   0,   0,   0]), 2),\n",
       " 896: (array([267, 739,   0,   0,   0,   0,   0]), 2),\n",
       " 897: (array([151, 277,   0,   0,   0,   0,   0]), 2),\n",
       " 898: (array([ 71, 645,   0,   0,   0,   0,   0]), 2),\n",
       " 899: (array([218, 151,   0,   0,   0,   0,   0]), 2),\n",
       " 900: (array([426, 590,   0,   0,   0,   0,   0]), 2),\n",
       " 901: (array([740,   0,   0,   0,   0,   0,   0]), 1),\n",
       " 902: (array([446, 364,   0,   0,   0,   0,   0]), 2),\n",
       " 903: (array([741, 742,   0,   0,   0,   0,   0]), 2),\n",
       " 904: (array([351,  74,   0,   0,   0,   0,   0]), 2),\n",
       " 905: (array([743, 743, 743,   0,   0,   0,   0]), 3),\n",
       " 906: (array([410, 744,   0,   0,   0,   0,   0]), 2),\n",
       " 907: (array([ 59, 377,   0,   0,   0,   0,   0]), 2),\n",
       " 908: (array([745, 746,   0,   0,   0,   0,   0]), 2),\n",
       " 909: (array([131, 369,   0,   0,   0,   0,   0]), 2),\n",
       " 910: (array([747, 463,   0,   0,   0,   0,   0]), 2),\n",
       " 911: (array([160, 160,   0,   0,   0,   0,   0]), 2),\n",
       " 912: (array([410, 463,   0,   0,   0,   0,   0]), 2),\n",
       " 913: (array([602,   0,   0,   0,   0,   0,   0]), 1),\n",
       " 914: (array([748, 402,   0,   0,   0,   0,   0]), 2),\n",
       " 915: (array([ 31, 216, 339,   0,   0,   0,   0]), 3),\n",
       " 916: (array([194, 375,   0,   0,   0,   0,   0]), 2),\n",
       " 917: (array([749,   0,   0,   0,   0,   0,   0]), 1),\n",
       " 918: (array([ 51, 518,   0,   0,   0,   0,   0]), 2),\n",
       " 919: (array([293, 695,   0,   0,   0,   0,   0]), 2),\n",
       " 920: (array([750,  59,   0,   0,   0,   0,   0]), 2),\n",
       " 921: (array([654, 365,   0,   0,   0,   0,   0]), 2),\n",
       " 922: (array([654, 751,   0,   0,   0,   0,   0]), 2),\n",
       " 923: (array([752,   0,   0,   0,   0,   0,   0]), 1),\n",
       " 924: (array([753,  59,   0,   0,   0,   0,   0]), 2),\n",
       " 925: (array([199, 717,   0,   0,   0,   0,   0]), 2),\n",
       " 926: (array([754, 243,   0,   0,   0,   0,   0]), 2),\n",
       " 927: (array([495, 283,   0,   0,   0,   0,   0]), 2),\n",
       " 928: (array([ 20, 121,   0,   0,   0,   0,   0]), 2),\n",
       " 929: (array([755,   0,   0,   0,   0,   0,   0]), 1),\n",
       " 930: (array([447, 125,   0,   0,   0,   0,   0]), 2),\n",
       " 931: (array([756,  39,  40,  41,   0,   0,   0]), 4),\n",
       " 932: (array([757,  19,   0,   0,   0,   0,   0]), 2),\n",
       " 933: (array([758, 466,   0,   0,   0,   0,   0]), 2),\n",
       " 934: (array([284, 223,   0,   0,   0,   0,   0]), 2),\n",
       " 935: (array([579,  71, 759, 760,   0,   0,   0]), 4),\n",
       " 936: (array([761, 252,   0,   0,   0,   0,   0]), 2),\n",
       " 937: (array([186, 703,   0,   0,   0,   0,   0]), 2),\n",
       " 938: (array([44,  7,  0,  0,  0,  0,  0]), 2),\n",
       " 939: (array([ 12, 134,   0,   0,   0,   0,   0]), 2),\n",
       " 940: (array([701, 593,   0,   0,   0,   0,   0]), 2),\n",
       " 941: (array([ 61, 188, 762,   0,   0,   0,   0]), 3),\n",
       " 942: (array([701,   0,   0,   0,   0,   0,   0]), 1),\n",
       " 943: (array([255, 476,  28,   0,   0,   0,   0]), 3),\n",
       " 944: (array([763, 764,   0,   0,   0,   0,   0]), 2),\n",
       " 945: (array([338,   0,   0,   0,   0,   0,   0]), 1),\n",
       " 946: (array([334,   0,   0,   0,   0,   0,   0]), 1),\n",
       " 947: (array([463,   0,   0,   0,   0,   0,   0]), 1),\n",
       " 948: (array([766,   0,   0,   0,   0,   0,   0]), 1),\n",
       " 949: (array([438, 176,   0,   0,   0,   0,   0]), 2),\n",
       " 950: (array([374,   0,   0,   0,   0,   0,   0]), 1),\n",
       " 951: (array([189, 767,   0,   0,   0,   0,   0]), 2),\n",
       " 952: (array([768,   0,   0,   0,   0,   0,   0]), 1),\n",
       " 953: (array([769, 133,   0,   0,   0,   0,   0]), 2),\n",
       " 954: (array([770, 771,   0,   0,   0,   0,   0]), 2),\n",
       " 955: (array([772, 773,   0,   0,   0,   0,   0]), 2),\n",
       " 956: (array([172, 302,   0,   0,   0,   0,   0]), 2),\n",
       " 957: (array([774, 775,   0,   0,   0,   0,   0]), 2),\n",
       " 958: (array([447,   0,   0,   0,   0,   0,   0]), 1),\n",
       " 959: (array([357, 294,   0,   0,   0,   0,   0]), 2),\n",
       " 960: (array([408,   0,   0,   0,   0,   0,   0]), 1),\n",
       " 961: (array([776, 777,   0,   0,   0,   0,   0]), 2),\n",
       " 962: (array([747, 778,   0,   0,   0,   0,   0]), 2),\n",
       " 963: (array([779,   0,   0,   0,   0,   0,   0]), 1),\n",
       " 964: (array([780, 656,   0,   0,   0,   0,   0]), 2),\n",
       " 965: (array([781, 782,   0,   0,   0,   0,   0]), 2),\n",
       " 966: (array([35, 35,  0,  0,  0,  0,  0]), 2),\n",
       " 967: (array([ 51, 351,   0,   0,   0,   0,   0]), 2),\n",
       " 968: (array([225, 307,   0,   0,   0,   0,   0]), 2),\n",
       " 969: (array([697, 325, 325,   0,   0,   0,   0]), 3),\n",
       " 970: (array([783, 784,   0,   0,   0,   0,   0]), 2),\n",
       " 971: (array([785, 786,   0,   0,   0,   0,   0]), 2),\n",
       " 972: (array([787,   0,   0,   0,   0,   0,   0]), 1),\n",
       " 973: (array([264, 136,   0,   0,   0,   0,   0]), 2),\n",
       " 974: (array([272, 159,   0,   0,   0,   0,   0]), 2),\n",
       " 975: (array([731, 788,   0,   0,   0,   0,   0]), 2),\n",
       " 976: (array([342,  86,   0,   0,   0,   0,   0]), 2),\n",
       " 977: (array([789, 701,   0,   0,   0,   0,   0]), 2),\n",
       " 978: (array([370, 790,   0,   0,   0,   0,   0]), 2),\n",
       " 979: (array([ 96, 701,   0,   0,   0,   0,   0]), 2),\n",
       " 980: (array([250, 520,   0,   0,   0,   0,   0]), 2),\n",
       " 981: (array([789, 791,   0,   0,   0,   0,   0]), 2),\n",
       " 982: (array([268,   0,   0,   0,   0,   0,   0]), 1),\n",
       " 983: (array([ 96, 792,   0,   0,   0,   0,   0]), 2),\n",
       " 984: (array([164, 164, 181,   0,   0,   0,   0]), 3),\n",
       " 985: (array([701, 660,   0,   0,   0,   0,   0]), 2),\n",
       " 986: (array([681, 269,   0,   0,   0,   0,   0]), 2),\n",
       " 987: (array([701,  38,   0,   0,   0,   0,   0]), 2),\n",
       " 988: (array([239, 701,   0,   0,   0,   0,   0]), 2),\n",
       " 989: (array([ 51, 701,   0,   0,   0,   0,   0]), 2),\n",
       " 990: (array([189, 195,   0,   0,   0,   0,   0]), 2),\n",
       " 991: (array([387, 512,   0,   0,   0,   0,   0]), 2),\n",
       " 992: (array([793,   0,   0,   0,   0,   0,   0]), 1),\n",
       " 993: (array([47, 21,  0,  0,  0,  0,  0]), 2),\n",
       " 994: (array([247, 300,   0,   0,   0,   0,   0]), 2),\n",
       " 995: (array([112, 411,   0,   0,   0,   0,   0]), 2),\n",
       " 996: (array([250, 583,   0,   0,   0,   0,   0]), 2),\n",
       " 997: (array([540, 468,  58,   0,   0,   0,   0]), 3),\n",
       " 998: (array([  0, 794,   0,   0,   0,   0,   0]), 2),\n",
       " 999: (array([186,  28,   0,   0,   0,   0,   0]), 2),\n",
       " ...}"
      ]
     },
     "execution_count": 25,
     "metadata": {},
     "output_type": "execute_result"
    }
   ],
   "source": [
    "wid2char"
   ]
  },
  {
   "cell_type": "code",
   "execution_count": 26,
   "metadata": {
    "ExecuteTime": {
     "end_time": "2020-06-12T12:21:30.874170Z",
     "start_time": "2020-06-12T12:21:30.867599Z"
    }
   },
   "outputs": [
    {
     "name": "stdout",
     "output_type": "stream",
     "text": [
      "对 aspect、评论 进行字编码\n",
      "(20, 7, 7) (20, 7)\n"
     ]
    }
   ],
   "source": [
    "print('对 aspect、评论 进行字编码')\n",
    "aspect_input_ch = np.asarray([[wid2char[i][0] for i in asp] for asp in aspect_input])\n",
    "aspect_input_ch_lens = np.asarray([[wid2char[i][1] for i in asp] for asp in aspect_input])\n",
    "print(aspect_input_ch.shape, aspect_input_ch_lens.shape)\n",
    "\n",
    "# 20个 aspect，每个 aspect 由 7 个单词组成，每个单词由 7 个字符组成"
   ]
  },
  {
   "cell_type": "code",
   "execution_count": 27,
   "metadata": {
    "ExecuteTime": {
     "end_time": "2020-06-12T12:23:13.832578Z",
     "start_time": "2020-06-12T12:21:41.619242Z"
    }
   },
   "outputs": [
    {
     "name": "stdout",
     "output_type": "stream",
     "text": [
      "(105000, 1113, 7) (105000, 1113)\n"
     ]
    }
   ],
   "source": [
    "train_context_ch = np.asarray([[wid2char[i][0] for i in asp] for asp in train_context])\n",
    "train_context_ch_len = np.asarray([[wid2char[i][1] for i in asp] for asp in train_context])\n",
    "print(train_context_ch.shape, train_context_ch_len.shape)"
   ]
  },
  {
   "cell_type": "code",
   "execution_count": 28,
   "metadata": {
    "ExecuteTime": {
     "end_time": "2020-06-12T12:23:34.119185Z",
     "start_time": "2020-06-12T12:23:21.254464Z"
    }
   },
   "outputs": [
    {
     "name": "stdout",
     "output_type": "stream",
     "text": [
      "(15000, 1113, 7) (15000, 1113)\n"
     ]
    }
   ],
   "source": [
    "val_context_ch = np.asarray([[wid2char[i][0] for i in asp] for asp in val_context])\n",
    "val_context_ch_len = np.asarray([[wid2char[i][1] for i in asp] for asp in val_context])\n",
    "print(val_context_ch.shape, val_context_ch_len.shape)"
   ]
  },
  {
   "cell_type": "code",
   "execution_count": 29,
   "metadata": {
    "ExecuteTime": {
     "end_time": "2020-06-12T12:23:54.417201Z",
     "start_time": "2020-06-12T12:23:41.310293Z"
    }
   },
   "outputs": [
    {
     "name": "stdout",
     "output_type": "stream",
     "text": [
      "(15000, 1113, 7) (15000, 1113)\n"
     ]
    }
   ],
   "source": [
    "test_context_ch = np.asarray([[wid2char[i][0] for i in asp] for asp in test_context])\n",
    "test_context_ch_len = np.asarray([[wid2char[i][1] for i in asp] for asp in test_context])\n",
    "print(test_context_ch.shape, test_context_ch_len.shape)"
   ]
  },
  {
   "cell_type": "code",
   "execution_count": 33,
   "metadata": {
    "ExecuteTime": {
     "end_time": "2020-06-11T08:44:03.281314Z",
     "start_time": "2020-06-11T08:44:03.237083Z"
    }
   },
   "outputs": [
    {
     "name": "stdout",
     "output_type": "stream",
     "text": [
      "根据 char2id 构造对应的字向量\n",
      "1\n",
      "contain rate:6380/6381\n",
      "(6381, 100)\n"
     ]
    },
    {
     "name": "stderr",
     "output_type": "stream",
     "text": [
      "/home/yangbin7/anaconda3/lib/python3.7/site-packages/ipykernel_launcher.py:9: DeprecationWarning: Call to deprecated `__contains__` (Method will be removed in 4.0.0, use self.wv.__contains__() instead).\n",
      "  if __name__ == '__main__':\n",
      "/home/yangbin7/anaconda3/lib/python3.7/site-packages/ipykernel_launcher.py:11: DeprecationWarning: Call to deprecated `__getitem__` (Method will be removed in 4.0.0, use self.wv.__getitem__() instead).\n",
      "  # This is added back by InteractiveShellApp.init_path()\n"
     ]
    }
   ],
   "source": [
    "print('根据 char2id 构造对应的字向量')\n",
    "embedding_matrix_ch, embedding_dim_ch = load_word_embeddings(char2id, ch2v)\n",
    "embedding_matrix_ch = embedding_matrix_ch.astype(np.float32)\n",
    "print(embedding_matrix_ch.shape)"
   ]
  },
  {
   "cell_type": "code",
   "execution_count": 35,
   "metadata": {
    "ExecuteTime": {
     "end_time": "2020-06-11T08:45:36.188697Z",
     "start_time": "2020-06-11T08:45:36.167445Z"
    }
   },
   "outputs": [
    {
     "name": "stdout",
     "output_type": "stream",
     "text": [
      "loading feature...\n",
      "80\n"
     ]
    }
   ],
   "source": [
    "print('loading feature...')\n",
    "prefix = 'svd_tfidf_withP_80'\n",
    "train_feas = np.load('./data/%s_train.npy' % prefix)\n",
    "val_feas = np.load('./data/%s_val.npy' % prefix)\n",
    "test_feas = np.load('./data/%s_test.npy' % prefix)\n",
    "feature_eng_size = train_feas.shape[1]\n",
    "print(feature_eng_size)"
   ]
  },
  {
   "cell_type": "code",
   "execution_count": null,
   "metadata": {},
   "outputs": [],
   "source": []
  },
  {
   "cell_type": "code",
   "execution_count": null,
   "metadata": {},
   "outputs": [],
   "source": []
  },
  {
   "cell_type": "code",
   "execution_count": null,
   "metadata": {},
   "outputs": [],
   "source": []
  },
  {
   "cell_type": "code",
   "execution_count": null,
   "metadata": {},
   "outputs": [],
   "source": []
  },
  {
   "cell_type": "code",
   "execution_count": null,
   "metadata": {},
   "outputs": [],
   "source": []
  },
  {
   "cell_type": "code",
   "execution_count": null,
   "metadata": {},
   "outputs": [],
   "source": []
  },
  {
   "cell_type": "code",
   "execution_count": null,
   "metadata": {},
   "outputs": [],
   "source": []
  }
 ],
 "metadata": {
  "kernelspec": {
   "display_name": "Python 3",
   "language": "python",
   "name": "python3"
  },
  "language_info": {
   "codemirror_mode": {
    "name": "ipython",
    "version": 3
   },
   "file_extension": ".py",
   "mimetype": "text/x-python",
   "name": "python",
   "nbconvert_exporter": "python",
   "pygments_lexer": "ipython3",
   "version": "3.7.7"
  },
  "toc": {
   "base_numbering": 1,
   "nav_menu": {},
   "number_sections": true,
   "sideBar": true,
   "skip_h1_title": false,
   "title_cell": "Table of Contents",
   "title_sidebar": "Contents",
   "toc_cell": false,
   "toc_position": {},
   "toc_section_display": true,
   "toc_window_display": false
  },
  "varInspector": {
   "cols": {
    "lenName": 16,
    "lenType": 16,
    "lenVar": 40
   },
   "kernels_config": {
    "python": {
     "delete_cmd_postfix": "",
     "delete_cmd_prefix": "del ",
     "library": "var_list.py",
     "varRefreshCmd": "print(var_dic_list())"
    },
    "r": {
     "delete_cmd_postfix": ") ",
     "delete_cmd_prefix": "rm(",
     "library": "var_list.r",
     "varRefreshCmd": "cat(var_dic_list()) "
    }
   },
   "types_to_exclude": [
    "module",
    "function",
    "builtin_function_or_method",
    "instance",
    "_Feature"
   ],
   "window_display": false
  }
 },
 "nbformat": 4,
 "nbformat_minor": 4
}
